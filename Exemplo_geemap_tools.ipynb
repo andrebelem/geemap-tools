{
 "cells": [
  {
   "cell_type": "markdown",
   "metadata": {
    "id": "OTzVqd_Aoieo"
   },
   "source": [
    "# geemap-tools: Demonstração de Funcionalidades\n",
    "\n",
    "Autor: [Andre L. Belem](mailto:andrebelem@id.uff.br)<br>\n",
    "Versão: Abril 2025\n",
    "\n",
    "Este notebook apresenta exemplos práticos das principais funções disponíveis no pacote `geemap-tools`. As rotinas foram desenvolvidas para facilitar o uso do Google Earth Engine com o auxílio das bibliotecas `geemap` e `eemont`, focando especialmente em usuários que desejam realizar análises geoespaciais sem a necessidade de programar em Python avançado.\n",
    "\n",
    "#### Instalação das Dependências\n",
    "\n",
    "Leia o README deste repositório para uma instalação completa de todos os pacotes necessários.\n",
    "\n",
    "**Atenção**: por compatibilidade com o github, todas as saídas deste jupyter foram apagadas. Rode em seu ambiente para gerar imagens e dados."
   ]
  },
  {
   "cell_type": "markdown",
   "metadata": {
    "id": "a-_3dk1Mo5dO"
   },
   "source": [
    "Como de costume, inicializando o `ee` e o `geemap`."
   ]
  },
  {
   "cell_type": "code",
   "execution_count": 1,
   "metadata": {
    "id": "DjI_doWmpCqp"
   },
   "outputs": [],
   "source": [
    "import ee\n",
    "import geemap\n",
    "import geemap_tools as gee\n",
    "\n",
    "ee.Authenticate()\n",
    "ee.Initialize(project='ee-andrebelem') # << note que vc tem que mudar para o seu projeto"
   ]
  },
  {
   "cell_type": "markdown",
   "metadata": {
    "id": "seZKm_vXq-2Z"
   },
   "source": [
    "### Lendo e Gravando uma Região de Interesse (ROI)\n",
    "\n",
    "Neste pacote, você pode definir sua Região de Interesse (ROI) de duas maneiras:  \n",
    "- Diretamente por código, se já souber as coordenadas ou área desejada.\n",
    "- De forma interativa, desenhando sobre o mapa.\n",
    "\n",
    "Aqui você pode usar duas funções uteis: `roi_to_file` e `file_to_roi`.\n",
    "\n",
    "No exemplo abaixo, criamos um mapa centrado na Floresta da Tijuca e definimos um `roi` manualmente.  \n",
    "Em seguida, mostramos como utilizar a função `roi_to_file` para salvar essa ROI em disco.  \n",
    "Essa funcionalidade é especialmente útil para manter suas regiões organizadas ou compartilhá-las facilmente com outros usuários.\n",
    "\n"
   ]
  },
  {
   "cell_type": "code",
   "execution_count": null,
   "metadata": {
    "id": "9JHE6Jhvq9Uu"
   },
   "outputs": [],
   "source": [
    "map = geemap.Map(center=[-22.85, -43.16], zoom=10)\n",
    "map.add_basemap(\"Esri.WorldImagery\")\n",
    "map"
   ]
  },
  {
   "cell_type": "code",
   "execution_count": null,
   "metadata": {
    "id": "fHbnmHIXrsnA"
   },
   "outputs": [],
   "source": [
    "# definindo o roi via `user_roi` do geemap.\n",
    "roi = map.user_roi\n",
    "\n",
    "gee.roi_to_file(roi, 'Floresta_da_Tijuca', format='shp') # converte em um arquivo shape e grava no disco"
   ]
  },
  {
   "cell_type": "markdown",
   "metadata": {
    "id": "Z-CP7D-Sr3hY"
   },
   "source": [
    "### Utilizando um ROI já salvo\n",
    "\n",
    "Para garantir consistência nos exemplos, vamos utilizar um arquivo de ROI já disponível no repositório do `geemap-tools`, contendo o shapefile da Floresta da Tijuca.\n",
    "\n",
    "Neste caso, utilizamos a função `file_to_roi` do pacote `geemap_tools` para ler o arquivo e carregar a região de interesse diretamente.\n"
   ]
  },
  {
   "cell_type": "code",
   "execution_count": null,
   "metadata": {
    "id": "yeasY8_jsKQo"
   },
   "outputs": [],
   "source": [
    "!wget https://github.com/andrebelem/geemap-tools/raw/refs/heads/main/Floresta_da_Tijuca.zip"
   ]
  },
  {
   "cell_type": "code",
   "execution_count": null,
   "metadata": {
    "id": "9cZocfn7sTDk"
   },
   "outputs": [],
   "source": [
    "tijuca = gee.file_to_roi(\"Floresta_da_Tijuca.zip\").geometry() # necessário para pegar apenas a tijuca como roi"
   ]
  },
  {
   "cell_type": "code",
   "execution_count": null,
   "metadata": {
    "id": "1gs9cUTXsWTy"
   },
   "outputs": [],
   "source": [
    "# verifique sempre se ele fez a operação de forma correta\n",
    "tijuca.getInfo()"
   ]
  },
  {
   "cell_type": "markdown",
   "metadata": {
    "id": "m6FnJVZ4tAub"
   },
   "source": [
    "### Listando Imagens de Satélite com `list_sat_images`\n",
    "\n",
    "A função `list_sat_images` permite listar rapidamente todas as imagens de satélite disponíveis em uma coleção do Google Earth Engine para uma determinada região de interesse (ROI) e intervalo de datas.\n",
    "\n",
    "Ela gera um DataFrame organizado com informações úteis como:\n",
    "- Data de aquisição\n",
    "- Percentual de nuvens\n",
    "- Nome do satélite\n",
    "- Azimute e elevação solar\n",
    "- Percentual de interseção com a ROI\n",
    "\n",
    "Essa rotina é extremamente útil para ter uma visão geral da disponibilidade de imagens antes de iniciar análises mais complexas.  \n",
    "Com ela, é possível verificar rapidamente a cobertura de nuvens, selecionar os melhores períodos de imagem, e identificar lacunas temporais nos dados.\n",
    "\n",
    "**Atenção:** dependendo da coleção escolhida (por exemplo, coleções diárias ou de alta frequência como Sentinel-2), a lista gerada pode ser bastante extensa, especialmente em áreas tropicais ou durante períodos longos de tempo.  \n",
    "É recomendado ajustar bem a data e o ROI para evitar carregar milhares de registros desnecessariamente.\n",
    "\n",
    "Outro ponto importante é que `list_sat_images` foi otimizada para funcionar especialmente com coleções do tipo **Landsat** e **Sentinel**. A função identifica automaticamente o tipo de satélite, organizando corretamente os metadados para facilitar a seleção posterior. Essa rotina torna o planejamento de análises de séries temporais, mosaicos ou filtragem por qualidade muito mais eficiente e acessível.\n"
   ]
  },
  {
   "cell_type": "code",
   "execution_count": null,
   "metadata": {
    "id": "Pn4Ki9Jzt4Yr"
   },
   "outputs": [],
   "source": [
    "# Vamos usar o Landsat 8 Collection 2 Tier 1 e Level 2 (Produtos de Superífice Corrigida)\n",
    "# note que se não estou delimitando uma data, ele vai fazer para todo o produto ! O que demora cerca de 5 minutos\n",
    "\n",
    "collection = ee.ImageCollection(\"LANDSAT/LC08/C02/T1_L2\")\n",
    "\n",
    "df_landsat = gee.list_sat_images(\n",
    "    collection_id=collection,\n",
    "    roi=tijuca,\n",
    "    #time_range=(\"2025-01-01\", \"2025-12-31\"),\n",
    "    max_imgs=500,\n",
    "    compute_clear_sky=True\n",
    ")"
   ]
  },
  {
   "cell_type": "code",
   "execution_count": null,
   "metadata": {
    "id": "zgiw60Kjujr4"
   },
   "outputs": [],
   "source": [
    "df_landsat # verificando consistência do arquivo"
   ]
  },
  {
   "cell_type": "markdown",
   "metadata": {
    "id": "k8GpQQD7u5q9"
   },
   "source": [
    "O DataFrame gerado pela função `list_sat_images` apresenta uma tabela com os principais atributos de cada imagem localizada para a coleção e intervalo de datas escolhidos.\n",
    "\n",
    "Cada linha da tabela corresponde a uma imagem individual, e as colunas representam:\n",
    "\n",
    "- **id**: Identificador completo da imagem na coleção do Earth Engine.\n",
    "- **date**: Data e hora de aquisição da imagem.\n",
    "- **satellite**: Nome do satélite que capturou a imagem (neste caso, sempre `LANDSAT_8`).\n",
    "- **img_cloud_cover**: Percentual de cobertura de nuvens reportado na imagem.\n",
    "- **solar_elevation**: Ângulo de elevação solar no momento da aquisição, em graus.\n",
    "- **solar_azimuth**: Azimute solar (posição do sol em relação ao norte), em graus.\n",
    "- **proportion_roi_%**: Percentual da região de interesse (ROI) coberta pela imagem.\n",
    "- **clear_sky_%**: Percentual da ROI livre de nuvens, calculado usando a máscara de nuvem (`QA_PIXEL`).\n",
    "\n",
    "---\n",
    "\n",
    "Este resultado permite filtrar rapidamente as melhores imagens para análise, priorizando, por exemplo, aquelas com maior `clear_sky_%` e menor `img_cloud_cover`.\n",
    "\n",
    "Note que `clear_sky_%` é bem consistente com `img_cloud_cover`."
   ]
  },
  {
   "cell_type": "code",
   "execution_count": null,
   "metadata": {
    "id": "7_JnVbLovGlA"
   },
   "outputs": [],
   "source": [
    "import seaborn as sns\n",
    "import matplotlib.pyplot as plt\n",
    "\n",
    "# Remove valores nulos ou NaN\n",
    "df_plot = df_landsat.dropna(subset=['clear_sky_%'])\n",
    "\n",
    "# Cria o histograma\n",
    "plt.figure(figsize=(10, 6))\n",
    "sns.histplot(df_plot['clear_sky_%'], bins=20, kde=True, color='skyblue')\n",
    "\n",
    "# Ajustes visuais\n",
    "plt.title('Distribuição do Percentual de Céu Claro (Landsat8)', fontsize=14)\n",
    "plt.xlabel('Clear Sky (%)')\n",
    "plt.ylabel('Frequência')\n",
    "plt.grid(True)\n",
    "\n",
    "# Exibe\n",
    "plt.tight_layout()\n",
    "plt.show()"
   ]
  },
  {
   "cell_type": "markdown",
   "metadata": {
    "id": "PAPR6kkQvN2n"
   },
   "source": [
    "Agora vamos obter o mesmo resultado para o sentinel. Veja que coloquei um range de datas aqui !"
   ]
  },
  {
   "cell_type": "code",
   "execution_count": null,
   "metadata": {
    "id": "JGU0OGu0vUYb"
   },
   "outputs": [],
   "source": [
    "# Chamada da função principal\n",
    "df_sentinel = gee.list_sat_images(\n",
    "    collection_id=\"COPERNICUS/S2_SR\",\n",
    "    roi=tijuca,\n",
    "    max_imgs=500,\n",
    "    compute_clear_sky=True,\n",
    "    time_range=(\"2025-01-01\", \"2025-12-31\")\n",
    ")"
   ]
  },
  {
   "cell_type": "code",
   "execution_count": null,
   "metadata": {
    "id": "ongXCUETvdPu"
   },
   "outputs": [],
   "source": [
    "df_sentinel # e o resultado ..."
   ]
  },
  {
   "cell_type": "code",
   "execution_count": null,
   "metadata": {
    "id": "DKgSVxplvhbE"
   },
   "outputs": [],
   "source": [
    "# note que posso usar a função de clear sky em uma imagem única !\n",
    "img = ee.Image(df_sentinel.id[0])\n",
    "clear_sky_target = gee.get_clear_sky_percentage(img,tijuca)\n",
    "\n",
    "print(f'Percentual de Céu Claro da imagem {df_sentinel.id[0]}: {clear_sky_target:.1f}%')"
   ]
  },
  {
   "cell_type": "code",
   "execution_count": null,
   "metadata": {
    "id": "C8RwI3r6wAMi"
   },
   "outputs": [],
   "source": [
    "# vamos criar um mapa para mostrar como essa imagem se apresenta\n",
    "Map = geemap.Map()\n",
    "Map.centerObject(tijuca, zoom=11)\n",
    "Map.addLayer(img, {'bands': ['B4', 'B3', 'B2'], 'min': 0, 'max': 3000}, 'RGB')\n",
    "Map.addLayer(tijuca, {'color': 'blue'}, 'ROI Tijuca')\n",
    "Map"
   ]
  },
  {
   "cell_type": "markdown",
   "metadata": {
    "id": "yBMj8_2RwO_G"
   },
   "source": [
    "### Visualizando Nuvens em uma Imagem Landsat 8\n",
    "\n",
    "Neste exemplo, selecionamos uma imagem do Landsat 8 que possui presença significativa de nuvens, com o objetivo de visualizar tanto a imagem original quanto a máscara de nuvens gerada a partir do atributo `QA_PIXEL`.\n",
    "\n",
    "Os passos realizados são:\n",
    "\n",
    "- Selecionar uma imagem específica da coleção `LANDSAT/LC08/C02/T1_L2`.\n",
    "- Visualizar a banda vermelha (`SR_B4`) em tons de cinza para facilitar a identificação visual.\n",
    "- Criar uma máscara de nuvens utilizando o bit 3 da banda `QA_PIXEL`, que indica a presença de nuvens.\n",
    "- Adicionar ao mapa a imagem original, a máscara de nuvens destacada em vermelho e o contorno da região de interesse (Floresta da Tijuca).\n"
   ]
  },
  {
   "cell_type": "code",
   "execution_count": null,
   "metadata": {
    "id": "KKKsyIFpwSx5"
   },
   "outputs": [],
   "source": [
    "# Seleciona a imagem Landsat 8 que tem nuvens\n",
    "img = ee.Image(\"LANDSAT/LC08/C02/T1_L2/LC08_217076_20180613\")\n",
    "\n",
    "# Seleciona uma banda visível para visualização em tons de cinza\n",
    "gray_vis = {\n",
    "    'bands': ['SR_B4'],  # Banda vermelha\n",
    "    'min': 5000,\n",
    "    'max': 16000,\n",
    "    'gamma': 1.2\n",
    "}\n",
    "\n",
    "# Cria o mapa centrado na imagem\n",
    "Map = geemap.Map()\n",
    "Map.centerObject(tijuca, zoom=11)\n",
    "\n",
    "# Adiciona a imagem original em escala de cinza\n",
    "Map.addLayer(img, gray_vis, \"Imagem em cinza (SR_B4)\")\n",
    "\n",
    "# Opcional: Adiciona a máscara de nuvem (QA_PIXEL bit 3)\n",
    "cloud_mask = img.select('QA_PIXEL').bitwiseAnd(1 << 3).neq(0)\n",
    "Map.addLayer(cloud_mask.updateMask(cloud_mask), {'palette': ['red']}, 'Máscara de nuvem (QA_PIXEL)')\n",
    "# Adiciona o contorno do ROI\n",
    "Map.addLayer(tijuca, {'color': 'blue'}, 'Floresta da Tijuca')\n",
    "\n",
    "Map"
   ]
  },
  {
   "cell_type": "code",
   "execution_count": null,
   "metadata": {
    "id": "GYtYE5pewaSY"
   },
   "outputs": [],
   "source": [
    "# Carrega a imagem Sentinel-2 que também tem nuvens\n",
    "img = ee.Image(\"COPERNICUS/S2_SR/20181225T130249_20181225T130243_T23KPQ\")\n",
    "\n",
    "# Visualização em tons de cinza (banda B4 - vermelho)\n",
    "gray_vis = {\n",
    "    'bands': ['B4'],  # Banda vermelha (10m)\n",
    "    'min': 0,\n",
    "    'max': 3000,\n",
    "    'gamma': 1.2\n",
    "}\n",
    "\n",
    "# Cria máscara de nuvem com base na banda SCL\n",
    "# Códigos 6, 7, 8, 9 representam diferentes tipos de nuvens\n",
    "scl = img.select('SCL')\n",
    "cloud_mask = scl.remap([6, 7, 8, 9], [1, 1, 1, 1], defaultValue=0).rename('cloud')\n",
    "cloud_mask = cloud_mask.updateMask(cloud_mask)  # aplica máscara apenas onde há nuvem\n",
    "\n",
    "# Cria o mapa\n",
    "Map = geemap.Map()\n",
    "Map.centerObject(tijuca, zoom=11)\n",
    "\n",
    "# Adiciona a imagem em tons de cinza\n",
    "Map.addLayer(img, gray_vis, \"Imagem em cinza (B4 - Sentinel-2)\")\n",
    "\n",
    "# Adiciona a máscara de nuvem\n",
    "Map.addLayer(cloud_mask, {'palette': ['red']}, 'Máscara de Nuvem (SCL)')\n",
    "\n",
    "# Adiciona a ROI\n",
    "Map.addLayer(tijuca, {'color': 'blue'}, 'Floresta da Tijuca')\n",
    "\n",
    "Map"
   ]
  },
  {
   "cell_type": "markdown",
   "metadata": {
    "id": "xwE6OgdDwn8A"
   },
   "source": [
    "## Análise de Séries Temporais\n",
    "\n",
    "Neste exemplo, vamos utilizar novamente a função `list_sat_images` para buscar imagens e gerar uma série temporal de NDVI utilizando dados do Sentinel.\n",
    "\n",
    "A ideia é explorar o máximo possível da série histórica disponível entre 2015 e 2025.  \n",
    "Entretanto, é importante observar que ao trabalhar com um volume muito grande de imagens (aproximadamente 466 imagens nesse caso), o uso intensivo do `googleapiclient` pode levar à saturação da conexão, gerando erros ou lentidão.\n",
    "\n",
    "Por boas práticas, o ideal seria dividir a busca em intervalos menores (por exemplo, por ano ou por estação).  \n",
    "No entanto, aqui o objetivo é testar o desempenho e explorar toda a capacidade da coleção de uma só vez.\n",
    "\n",
    "Este teste também ilustra a necessidade de estratégias de otimização para séries temporais longas no Earth Engine. Note que a listagem das imagens demora em torno de **12 minutos** !!\n"
   ]
  },
  {
   "cell_type": "code",
   "execution_count": null,
   "metadata": {
    "id": "XIs9w9sswqyC"
   },
   "outputs": [],
   "source": [
    "df_sentinel = gee.list_sat_images(\n",
    "    collection_id=ee.ImageCollection(\"COPERNICUS/S2_SR\"),\n",
    "    roi=tijuca,\n",
    "    max_imgs=500,\n",
    "    compute_clear_sky=True,\n",
    "    time_range=(\"2015-01-01\", \"2025-12-31\")\n",
    ")"
   ]
  },
  {
   "cell_type": "markdown",
   "metadata": {
    "id": "2Q8C65r2JFxn"
   },
   "source": [
    "## Criando uma Série Temporal do NDVI\n",
    "\n",
    "Agora que já temos o `df_landsat` e `df_sentinel`, vamos criar uma série temporal utilizando a média e o desvio padrão do NDVI (Índice de Vegetação por Diferença Normalizada).\n",
    "\n",
    "Vamos usar a função `index_to_timeseries`, que pode ser aplicada a qualquer índice disponível no pacote [`eemont`](https://eemont.readthedocs.io/en/latest/). Recomendo dar uma olhada na documentação para conhecer todos os índices suportados!\n",
    "\n",
    "> ⚠️ Atenção: Se estiver trabalhando com conjuntos de dados muito grandes, essa operação pode demorar um pouco para ser concluída.\n"
   ]
  },
  {
   "cell_type": "code",
   "execution_count": null,
   "metadata": {
    "id": "Yu8k2JxPJlYR"
   },
   "outputs": [],
   "source": [
    "# Supondo que você já tenha carregado 'tijuca' como ee.Geometry !\n",
    "df_ndvi_landsat = gee.index_to_timeseries(df_landsat, tijuca, index_name='NDVI', debug=False)\n",
    "df_ndvi_sentinel = gee.index_to_timeseries(df_sentinel, tijuca, index_name='NDVI', debug=False)"
   ]
  },
  {
   "cell_type": "markdown",
   "metadata": {
    "id": "1WjuNqtYNtea"
   },
   "source": [
    "Verifique sempre o resultado !"
   ]
  },
  {
   "cell_type": "code",
   "execution_count": null,
   "metadata": {
    "id": "7VGqeGILNqp-"
   },
   "outputs": [],
   "source": [
    "df_ndvi_landsat.head() # verificando..."
   ]
  },
  {
   "cell_type": "markdown",
   "metadata": {
    "id": "i2hh4GYcNzQu"
   },
   "source": [
    "Vamos fazer um plot comparativo ..... Modifique para sua aplicação"
   ]
  },
  {
   "cell_type": "code",
   "execution_count": null,
   "metadata": {
    "id": "cmZpANAeN1s4"
   },
   "outputs": [],
   "source": [
    "import matplotlib.pyplot as plt\n",
    "import seaborn as sns\n",
    "import numpy as np\n",
    "\n",
    "# Ordena os DataFrames por data\n",
    "df_ndvi_landsat = df_ndvi_landsat.sort_values(\"date\")\n",
    "df_ndvi_sentinel = df_ndvi_sentinel.sort_values(\"date\")\n",
    "\n",
    "# Cópias para o plot\n",
    "df_ndvi_landsat_plot = df_ndvi_landsat.copy()\n",
    "df_ndvi_sentinel_plot = df_ndvi_sentinel.copy()\n",
    "\n",
    "# Filtro para visualização: clear_sky_% < 95 → NDVI_mean/std = NaN\n",
    "df_ndvi_landsat_plot.loc[df_ndvi_landsat_plot['clear_sky_%'] < 95, ['NDVI_mean', 'NDVI_std']] = np.nan\n",
    "df_ndvi_sentinel_plot.loc[df_ndvi_sentinel_plot['clear_sky_%'] < 95, ['NDVI_mean', 'NDVI_std']] = np.nan\n",
    "\n",
    "# Inicia o gráfico\n",
    "plt.figure(figsize=(12, 6))\n",
    "\n",
    "# Faixa de std - Sentinel\n",
    "plt.fill_between(\n",
    "    df_ndvi_sentinel_plot['date'],\n",
    "    df_ndvi_sentinel_plot['NDVI_mean'] - df_ndvi_sentinel_plot['NDVI_std'],\n",
    "    df_ndvi_sentinel_plot['NDVI_mean'] + df_ndvi_sentinel_plot['NDVI_std'],\n",
    "    color='green', alpha=0.1\n",
    ")\n",
    "\n",
    "# Faixa de std - Landsat\n",
    "plt.fill_between(\n",
    "    df_ndvi_landsat_plot['date'],\n",
    "    df_ndvi_landsat_plot['NDVI_mean'] - df_ndvi_landsat_plot['NDVI_std'],\n",
    "    df_ndvi_landsat_plot['NDVI_mean'] + df_ndvi_landsat_plot['NDVI_std'],\n",
    "    color='blue', alpha=0.1\n",
    ")\n",
    "\n",
    "# Linha média do NDVI - Sentinel\n",
    "sns.lineplot(\n",
    "    data=df_ndvi_sentinel_plot,\n",
    "    x='date', y='NDVI_mean',\n",
    "    label='Sentinel-2 (linha)',\n",
    "    color='green'\n",
    ")\n",
    "\n",
    "# Linha média do NDVI - Landsat\n",
    "sns.lineplot(\n",
    "    data=df_ndvi_landsat_plot,\n",
    "    x='date', y='NDVI_mean',\n",
    "    label='Landsat 8 (linha)',\n",
    "    color='blue'\n",
    ")\n",
    "\n",
    "# ░░░ Pontos sobre a curva Sentinel, diferenciando por satélite ░░░\n",
    "sentinel_symbols = {\n",
    "    'Sentinel-2A': 'o',  # Círculo\n",
    "    'Sentinel-2B': 's',  # Quadrado\n",
    "    'Sentinel-2C': 'X',  # X\n",
    "}\n",
    "\n",
    "for sat, marker in sentinel_symbols.items():\n",
    "    subset = df_ndvi_sentinel_plot[df_ndvi_sentinel_plot['satellite'] == sat]\n",
    "    plt.scatter(\n",
    "        subset['date'], subset['NDVI_mean'],\n",
    "        color='green', marker=marker, s=60, label=f'{sat}'\n",
    "    )\n",
    "\n",
    "# ░░░ Pontos sobre a curva Landsat (inclusive onde NDVI_mean é NaN) ░░░\n",
    "plt.scatter(\n",
    "    df_ndvi_landsat['date'],\n",
    "    df_ndvi_landsat_plot['NDVI_mean'],  # usa os NaN filtrados\n",
    "    color='blue', marker='D', s=50, label='Landsat 8 (ponto)'\n",
    ")\n",
    "\n",
    "# Ajustes visuais\n",
    "plt.title('Série Temporal do NDVI (clear_sky ≥ 95%)', fontsize=14)\n",
    "plt.xlabel('Data')\n",
    "plt.ylabel('NDVI médio sobre a ROI')\n",
    "plt.legend()\n",
    "plt.grid(True)\n",
    "plt.tight_layout()\n",
    "plt.show()\n"
   ]
  },
  {
   "cell_type": "markdown",
   "metadata": {
    "id": "cUZS4M6dOtis"
   },
   "source": [
    "## Interpretação da Série Temporal de NDVI - Landsat vs Sentinel-2\n",
    "\n",
    "A figura acima apresenta a série temporal do NDVI médio para duas plataformas de satélites:\n",
    "- **Landsat 8** (em azul)\n",
    "- **Sentinel-2A/B/C** (em verde, com símbolos diferentes para cada satélite)\n",
    "\n",
    "É possível observar que o NDVI derivado do Sentinel-2 é consistentemente mais alto do que o do Landsat 8 para a mesma região e período de observação. As principais razões para essa diferença incluem:\n",
    "\n",
    "- **Resolução espacial**: Sentinel-2 possui resolução espacial mais fina (10 metros para a banda do NDVI), enquanto Landsat 8 opera em 30 metros. Isso permite que o Sentinel capture feições vegetadas menores que poderiam ser diluídas na média dos pixels do Landsat.\n",
    "- **Especificidade espectral**: As bandas do Sentinel-2 são mais otimizadas para vegetação, especialmente no red-edge, o que melhora a sensibilidade a variações sutis no vigor da vegetação.\n",
    "- **Frequência de revisita**: O Sentinel-2 revisita a mesma área com mais frequência, reduzindo o risco de captar cenas sob condições atípicas (ex.: após estresse hídrico ou eventos extremos).\n",
    "- **Processamento atmosférico**: As correções atmosféricas aplicadas em cada missão são diferentes (ex.: Sen2Cor para Sentinel e LaSRC para Landsat), podendo introduzir pequenas divergências nos valores de reflectância de superfície.\n",
    "\n",
    "Ainda assim, a queda abrupta no NDVI do Sentinel-2 observada a partir de 2022 pode estar relacionada a:\n",
    "\n",
    "- **Mudança no sistema de observação**: Em 2022, o Sentinel-2C começou a operar. Pequenas diferenças de calibração entre satélites (A, B e C) podem gerar mudanças sistemáticas nos índices se não forem devidamente harmonizadas.\n",
    "- **Problemas na correção atmosférica**: Variações na qualidade do produto atmosférico (ex.: presença de aerossóis não detectados) podem afetar a acurácia dos índices derivados.\n",
    "- **Alteração da área analisada**: Caso a região de interesse (ROI) tenha sido modificada ou tenha sofrido mudança de uso do solo (ex.: urbanização), o NDVI médio tenderia a diminuir. Porém, isso não explicaria porque o Landsat 8 se mantém estável\n",
    "\n",
    "> 🔎 Uma análise complementar usando dados de precipitação, índices de seca (ex.: SPI) ou imagens visuais da região poderia ajudar a confirmar a causa da mudança em 2022.\n",
    "\n"
   ]
  },
  {
   "cell_type": "markdown",
   "metadata": {
    "id": "kuc0A504PPo6"
   },
   "source": [
    "## Conclusão\n",
    "\n",
    "Este notebook mostrou como trabalhar com o `geemap-tools`, listando e separando imagens, além de construir uma análise temporal do NDVI usando imagens Landsat e Sentinel-2, destacando diferenças importantes entre as plataformas e evidenciando eventos de variação na cobertura vegetal ao longo do tempo.\n",
    "\n",
    "A exploração do NDVI é apenas uma das muitas possibilidades! Com pequenas adaptações, você pode aplicar o mesmo fluxo de trabalho para outros índices de vegetação, umidade do solo, detecção de queimadas, entre muitos outros disponíveis no pacote [`eemont`](https://eemont.readthedocs.io/en/latest/).\n",
    "\n",
    "Fique à vontade para experimentar, adaptar e expandir esse código para suas necessidades.  \n",
    "Se você desenvolver alguma função extra ou melhoria interessante, sinta-se convidado(a) a interagir com o repositório original e enviar um **Pull Request**!  \n",
    "Será um prazer receber suas contribuições!\n",
    "\n",
    "> 🚀 Ciência aberta se faz assim: colaborando e compartilhando!\n",
    "\n",
    "\n",
    "[Andre L. Belem](mailto:andrebelem@id.uff.br)\n",
    "\n"
   ]
  }
 ],
 "metadata": {
  "colab": {
   "provenance": []
  },
  "kernelspec": {
   "display_name": "Python 3 (ipykernel)",
   "language": "python",
   "name": "python3"
  },
  "language_info": {
   "codemirror_mode": {
    "name": "ipython",
    "version": 3
   },
   "file_extension": ".py",
   "mimetype": "text/x-python",
   "name": "python",
   "nbconvert_exporter": "python",
   "pygments_lexer": "ipython3",
   "version": "3.11.12"
  }
 },
 "nbformat": 4,
 "nbformat_minor": 4
}
