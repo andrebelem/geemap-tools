{
 "cells": [
  {
   "cell_type": "markdown",
   "metadata": {
    "id": "OTzVqd_Aoieo"
   },
   "source": [
    "# geemap-tools: Demonstração de Funcionalidades\n",
    "\n",
    "Autor: [Andre L. Belem](mailto:andrebelem@id.uff.br)<br>\n",
    "Versão: Abril 2025<br>\n",
    "**Atualizações:**\n",
    "- Julho 2025: refatoração de alguns códigos, melhoria nos markdowns explicativos e novas funções.\n",
    "\n",
    "Este notebook apresenta exemplos práticos das principais funções disponíveis no pacote `geemap-tools`. As rotinas foram desenvolvidas para facilitar o uso do Google Earth Engine com o auxílio das bibliotecas `geemap`, focando especialmente em usuários que desejam realizar análises geoespaciais sem a necessidade de programar em Python avançado.\n",
    "\n",
    "\n",
    "Se estiver no Google Colab, instale as dependências necessárias com:\n",
    "\n",
    "```python\n",
    "!pip install git+https://github.com/andrebelem/geemap-tools.git\n",
    "```\n",
    "\n",
    "**Atenção**: por compatibilidade com o github, todas as saídas deste jupyter foram apagadas. Rode em seu ambiente para gerar imagens e dados.\n",
    "O `geemap-tools`irá instalar várias bibliotecas incluindo `xarray`, `rioxarray`, `eemont`, `geopandas` entre outros."
   ]
  },
  {
   "cell_type": "markdown",
   "metadata": {},
   "source": [
    "**Note** que a primeira etapa é a instalação dos pacotes essenciais"
   ]
  },
  {
   "cell_type": "code",
   "execution_count": null,
   "metadata": {
    "id": "7Wj9QxScoG1g"
   },
   "outputs": [],
   "source": [
    "# esta célula deve ser rodada no colab para instalar o pacote\n",
    "#!pip install git+https://github.com/andrebelem/geemap-tools.git\n",
    "#print(\"Instalação concluída.\")"
   ]
  },
  {
   "cell_type": "markdown",
   "metadata": {
    "id": "a-_3dk1Mo5dO"
   },
   "source": [
    "Depois disso, basta começar como de costume inicializando o `ee` e o `geemap`."
   ]
  },
  {
   "cell_type": "code",
   "execution_count": 1,
   "metadata": {
    "id": "DjI_doWmpCqp"
   },
   "outputs": [],
   "source": [
    "import warnings ## <- apenas para deixar a saída mais limpa. Se quiser pode comentar.\n",
    "warnings.filterwarnings(\"ignore\", category=UserWarning)\n",
    "\n",
    "import ee\n",
    "import geemap\n",
    "import geemap_tools as gee\n",
    "ee.Authenticate()\n",
    "ee.Initialize(project='ee-andrebelem') # << note que vc tem que mudar para o seu projeto"
   ]
  },
  {
   "cell_type": "markdown",
   "metadata": {
    "id": "seZKm_vXq-2Z",
    "jp-MarkdownHeadingCollapsed": true
   },
   "source": [
    "### Lendo e Gravando uma Região de Interesse (ROI)\n",
    "\n",
    "Neste pacote, você pode definir sua Região de Interesse (ROI) de duas maneiras:  \n",
    "- Diretamente por código, se já souber as coordenadas ou área desejada.\n",
    "- De forma interativa, desenhando sobre o mapa.\n",
    "\n",
    "Aqui você pode usar duas funções uteis: `roi_to_file` e `file_to_roi`.\n",
    "\n",
    "No exemplo abaixo, criamos um mapa centrado na Floresta da Tijuca e definimos um `roi` manualmente.  \n",
    "Em seguida, mostramos como utilizar a função `roi_to_file` para salvar essa ROI em disco.  \n",
    "Essa funcionalidade é especialmente útil para manter suas regiões organizadas ou compartilhá-las facilmente com outros usuários.\n",
    "\n",
    "📽️ [Clique aqui para assistir ao vídeo \"Como criar um ROI no geemap\"](https://github.com/andrebelem/geemap-tools/blob/main/exemplos/Como_criar_um_ROI_geemap.mp4)\n",
    "\n",
    "> Este vídeo demonstra passo a passo como selecionar uma região de interesse (ROI) no Google Earth Engine usando `geemap`.\n",
    "\n",
    "\n"
   ]
  },
  {
   "cell_type": "code",
   "execution_count": 3,
   "metadata": {
    "id": "9JHE6Jhvq9Uu"
   },
   "outputs": [
    {
     "data": {
      "text/html": [
       "\n",
       "            <style>\n",
       "                .geemap-dark {\n",
       "                    --jp-widgets-color: white;\n",
       "                    --jp-widgets-label-color: white;\n",
       "                    --jp-ui-font-color1: white;\n",
       "                    --jp-layout-color2: #454545;\n",
       "                    background-color: #383838;\n",
       "                }\n",
       "\n",
       "                .geemap-dark .jupyter-button {\n",
       "                    --jp-layout-color3: #383838;\n",
       "                }\n",
       "\n",
       "                .geemap-colab {\n",
       "                    background-color: var(--colab-primary-surface-color, white);\n",
       "                }\n",
       "\n",
       "                .geemap-colab .jupyter-button {\n",
       "                    --jp-layout-color3: var(--colab-primary-surface-color, white);\n",
       "                }\n",
       "            </style>\n",
       "            "
      ],
      "text/plain": [
       "<IPython.core.display.HTML object>"
      ]
     },
     "metadata": {},
     "output_type": "display_data"
    },
    {
     "data": {
      "application/vnd.jupyter.widget-view+json": {
       "model_id": "01d3a4be47824c0fbe683710447669bd",
       "version_major": 2,
       "version_minor": 0
      },
      "text/plain": [
       "Map(center=[-22.85, -43.16], controls=(WidgetControl(options=['position', 'transparent_bg'], widget=SearchData…"
      ]
     },
     "execution_count": 3,
     "metadata": {},
     "output_type": "execute_result"
    }
   ],
   "source": [
    "map = geemap.Map(center=[-22.85, -43.16], zoom=10)\n",
    "map.add_basemap(\"Esri.WorldImagery\")\n",
    "map"
   ]
  },
  {
   "cell_type": "code",
   "execution_count": 5,
   "metadata": {
    "id": "fHbnmHIXrsnA"
   },
   "outputs": [
    {
     "data": {
      "text/html": [
       "\n",
       "            <style>\n",
       "                .geemap-dark {\n",
       "                    --jp-widgets-color: white;\n",
       "                    --jp-widgets-label-color: white;\n",
       "                    --jp-ui-font-color1: white;\n",
       "                    --jp-layout-color2: #454545;\n",
       "                    background-color: #383838;\n",
       "                }\n",
       "\n",
       "                .geemap-dark .jupyter-button {\n",
       "                    --jp-layout-color3: #383838;\n",
       "                }\n",
       "\n",
       "                .geemap-colab {\n",
       "                    background-color: var(--colab-primary-surface-color, white);\n",
       "                }\n",
       "\n",
       "                .geemap-colab .jupyter-button {\n",
       "                    --jp-layout-color3: var(--colab-primary-surface-color, white);\n",
       "                }\n",
       "            </style>\n",
       "            "
      ],
      "text/plain": [
       "<IPython.core.display.HTML object>"
      ]
     },
     "metadata": {},
     "output_type": "display_data"
    },
    {
     "data": {
      "text/plain": [
       "'C:\\\\Users\\\\abelem\\\\Documents\\\\GitHub\\\\geemap-tools\\\\Floresta_da_Tijuca.shp'"
      ]
     },
     "execution_count": 5,
     "metadata": {},
     "output_type": "execute_result"
    }
   ],
   "source": [
    "# definindo o roi via `user_roi` do geemap.\n",
    "roi = map.user_roi\n",
    "\n",
    "gee.roi_to_file(roi, 'Floresta_da_Tijuca', format='shp') # converte em um arquivo shape e grava no disco"
   ]
  },
  {
   "cell_type": "markdown",
   "metadata": {
    "id": "Z-CP7D-Sr3hY"
   },
   "source": [
    "### Utilizando um ROI já salvo\n",
    "\n",
    "Para garantir consistência nos exemplos, vamos utilizar um arquivo de ROI já disponível no repositório do `geemap-tools`, contendo o shapefile da Floresta da Tijuca.\n",
    "\n",
    "Neste caso, utilizamos a função `file_to_roi` do pacote `geemap_tools` para ler o arquivo e carregar a região de interesse diretamente.\n"
   ]
  },
  {
   "cell_type": "code",
   "execution_count": null,
   "metadata": {
    "id": "yeasY8_jsKQo"
   },
   "outputs": [],
   "source": [
    "# caso você esteja no google colab, pode obter o shape daqui\n",
    "#!wget https://github.com/andrebelem/geemap-tools/raw/refs/heads/main/exemplos/Floresta_da_Tijuca_original.zip"
   ]
  },
  {
   "cell_type": "code",
   "execution_count": 2,
   "metadata": {
    "id": "9cZocfn7sTDk"
   },
   "outputs": [
    {
     "data": {
      "text/html": [
       "\n",
       "            <style>\n",
       "                .geemap-dark {\n",
       "                    --jp-widgets-color: white;\n",
       "                    --jp-widgets-label-color: white;\n",
       "                    --jp-ui-font-color1: white;\n",
       "                    --jp-layout-color2: #454545;\n",
       "                    background-color: #383838;\n",
       "                }\n",
       "\n",
       "                .geemap-dark .jupyter-button {\n",
       "                    --jp-layout-color3: #383838;\n",
       "                }\n",
       "\n",
       "                .geemap-colab {\n",
       "                    background-color: var(--colab-primary-surface-color, white);\n",
       "                }\n",
       "\n",
       "                .geemap-colab .jupyter-button {\n",
       "                    --jp-layout-color3: var(--colab-primary-surface-color, white);\n",
       "                }\n",
       "            </style>\n",
       "            "
      ],
      "text/plain": [
       "<IPython.core.display.HTML object>"
      ]
     },
     "metadata": {},
     "output_type": "display_data"
    }
   ],
   "source": [
    "tijuca = gee.file_to_roi(\"Floresta_da_Tijuca_original.zip\").geometry() # necessário para pegar apenas a tijuca como roi"
   ]
  },
  {
   "cell_type": "code",
   "execution_count": 3,
   "metadata": {
    "id": "1gs9cUTXsWTy",
    "scrolled": true
   },
   "outputs": [
    {
     "data": {
      "text/html": [
       "\n",
       "            <style>\n",
       "                .geemap-dark {\n",
       "                    --jp-widgets-color: white;\n",
       "                    --jp-widgets-label-color: white;\n",
       "                    --jp-ui-font-color1: white;\n",
       "                    --jp-layout-color2: #454545;\n",
       "                    background-color: #383838;\n",
       "                }\n",
       "\n",
       "                .geemap-dark .jupyter-button {\n",
       "                    --jp-layout-color3: #383838;\n",
       "                }\n",
       "\n",
       "                .geemap-colab {\n",
       "                    background-color: var(--colab-primary-surface-color, white);\n",
       "                }\n",
       "\n",
       "                .geemap-colab .jupyter-button {\n",
       "                    --jp-layout-color3: var(--colab-primary-surface-color, white);\n",
       "                }\n",
       "            </style>\n",
       "            "
      ],
      "text/plain": [
       "<IPython.core.display.HTML object>"
      ]
     },
     "metadata": {},
     "output_type": "display_data"
    },
    {
     "name": "stdout",
     "output_type": "stream",
     "text": [
      "📐 Área total: 98.20 km²\n",
      "📏 Perímetro total: 49.35 km\n"
     ]
    },
    {
     "data": {
      "text/html": [
       "<div>\n",
       "<style scoped>\n",
       "    .dataframe tbody tr th:only-of-type {\n",
       "        vertical-align: middle;\n",
       "    }\n",
       "\n",
       "    .dataframe tbody tr th {\n",
       "        vertical-align: top;\n",
       "    }\n",
       "\n",
       "    .dataframe thead th {\n",
       "        text-align: right;\n",
       "    }\n",
       "</style>\n",
       "<table border=\"1\" class=\"dataframe\">\n",
       "  <thead>\n",
       "    <tr style=\"text-align: right;\">\n",
       "      <th></th>\n",
       "      <th>Resolução (m)</th>\n",
       "      <th>Área de pixel (m²)</th>\n",
       "      <th>Nº estimado de pixels</th>\n",
       "    </tr>\n",
       "  </thead>\n",
       "  <tbody>\n",
       "    <tr>\n",
       "      <th>0</th>\n",
       "      <td>10</td>\n",
       "      <td>100</td>\n",
       "      <td>982003</td>\n",
       "    </tr>\n",
       "    <tr>\n",
       "      <th>1</th>\n",
       "      <td>30</td>\n",
       "      <td>900</td>\n",
       "      <td>109111</td>\n",
       "    </tr>\n",
       "    <tr>\n",
       "      <th>2</th>\n",
       "      <td>60</td>\n",
       "      <td>3600</td>\n",
       "      <td>27278</td>\n",
       "    </tr>\n",
       "  </tbody>\n",
       "</table>\n",
       "</div>"
      ],
      "text/plain": [
       "   Resolução (m)  Área de pixel (m²)  Nº estimado de pixels\n",
       "0             10                 100                 982003\n",
       "1             30                 900                 109111\n",
       "2             60                3600                  27278"
      ]
     },
     "metadata": {},
     "output_type": "display_data"
    },
    {
     "data": {
      "text/plain": [
       "{'area_km2': 98.20025473025349,\n",
       " 'perimetro_km': 49.35211809930279,\n",
       " 'n_pixels': {'10m': 982003, '30m': 109111, '60m': 27278},\n",
       " 'df':    Resolução (m)  Área de pixel (m²)  Nº estimado de pixels\n",
       " 0             10                 100                 982003\n",
       " 1             30                 900                 109111\n",
       " 2             60                3600                  27278}"
      ]
     },
     "execution_count": 3,
     "metadata": {},
     "output_type": "execute_result"
    }
   ],
   "source": [
    "# note que você pode usar a rotina `describe_roi`do geemap\n",
    "gee.analysis.describe_roi(tijuca)"
   ]
  },
  {
   "cell_type": "code",
   "execution_count": 4,
   "metadata": {},
   "outputs": [
    {
     "data": {
      "text/html": [
       "\n",
       "            <style>\n",
       "                .geemap-dark {\n",
       "                    --jp-widgets-color: white;\n",
       "                    --jp-widgets-label-color: white;\n",
       "                    --jp-ui-font-color1: white;\n",
       "                    --jp-layout-color2: #454545;\n",
       "                    background-color: #383838;\n",
       "                }\n",
       "\n",
       "                .geemap-dark .jupyter-button {\n",
       "                    --jp-layout-color3: #383838;\n",
       "                }\n",
       "\n",
       "                .geemap-colab {\n",
       "                    background-color: var(--colab-primary-surface-color, white);\n",
       "                }\n",
       "\n",
       "                .geemap-colab .jupyter-button {\n",
       "                    --jp-layout-color3: var(--colab-primary-surface-color, white);\n",
       "                }\n",
       "            </style>\n",
       "            "
      ],
      "text/plain": [
       "<IPython.core.display.HTML object>"
      ]
     },
     "metadata": {},
     "output_type": "display_data"
    },
    {
     "name": "stdout",
     "output_type": "stream",
     "text": [
      "{'10m': 982003, '30m': 109111, '60m': 27278}\n"
     ]
    }
   ],
   "source": [
    "# Ou para apenas obter os valores:\n",
    "info = gee.analysis.describe_roi(tijuca, show_pixels_table=False, print_summary=False)\n",
    "print(info[\"n_pixels\"])"
   ]
  },
  {
   "cell_type": "markdown",
   "metadata": {},
   "source": [
    "#### Observação sobre Limites de Processamento no Google Earth Engine\n",
    "\n",
    "Operações no Google Earth Engine (GEE) como `reduceRegion`, `sample`, `getDownloadURL` ou `export` estão sujeitas a limites internos de uso, tanto em termos de número de pixels quanto de volume total de dados. Esses limites variam dependendo do tipo de operação, da quantidade de bandas e da resolução espacial dos dados utilizados.\n",
    "\n",
    "##### Limites Comuns:\n",
    "\n",
    "- Operações como `reduceRegion` ou `getDownloadURL` geralmente funcionam com até cerca de 1 a 5 milhões de pixels. Acima disso, podem ocorrer erros de memória ou tempo de execução.\n",
    "- Exportações que envolvem imagens maiores que 5000 x 5000 pixels (25 milhões de pixels) tendem a falhar, especialmente se houver muitas bandas.\n",
    "- O tempo máximo de execução de operações client-side no GEE costuma ser limitado (aproximadamente 5 minutos).\n",
    "\n",
    "##### Erros Comuns:\n",
    "\n",
    "- `User memory limit exceeded`\n",
    "- `Image too large for exporting`\n",
    "- `Computation timed out`\n",
    "- `Too many pixels in region`\n",
    "\n",
    "##### Boas Práticas:\n",
    "\n",
    "- Reduzir a área de interesse ou subdividi-la em regiões menores.\n",
    "- Trabalhar com menos bandas ou índices espectrais, se possível.\n",
    "- Usar resoluções espaciais mais baixas quando o objetivo permitir.\n",
    "- Priorizar o uso de `reduceRegions` ou `export` com limites explícitos de escala e geometria simplificada.\n",
    "\n",
    "Evitar exceder esses limites ajuda a garantir a estabilidade do código e o sucesso das operações no ambiente do GEE.\n"
   ]
  },
  {
   "cell_type": "markdown",
   "metadata": {
    "id": "m6FnJVZ4tAub"
   },
   "source": [
    "### Listando Imagens de Satélite com `list_sat_images`\n",
    "\n",
    "A função `list_sat_images` permite listar rapidamente todas as imagens de satélite disponíveis em uma coleção do Google Earth Engine para uma determinada região de interesse (ROI) e intervalo de datas.\n",
    "\n",
    "Ela gera um DataFrame organizado com informações úteis como:\n",
    "- Data de aquisição\n",
    "- Percentual de nuvens\n",
    "- Nome do satélite\n",
    "- Azimute e elevação solar\n",
    "- Percentual de interseção com a ROI\n",
    "\n",
    "Essa rotina é extremamente útil para ter uma visão geral da disponibilidade de imagens antes de iniciar análises mais complexas.  \n",
    "Com ela, é possível verificar rapidamente a cobertura de nuvens, selecionar os melhores períodos de imagem, e identificar lacunas temporais nos dados.\n",
    "\n",
    "**Atenção:** dependendo da coleção escolhida (por exemplo, coleções diárias ou de alta frequência como Sentinel-2), a lista gerada pode ser bastante extensa, especialmente em áreas tropicais ou durante períodos longos de tempo.  \n",
    "É recomendado ajustar bem a data e o ROI para evitar carregar milhares de registros desnecessariamente.\n",
    "\n",
    "Outro ponto importante é que `list_sat_images` foi otimizada para funcionar especialmente com coleções do tipo **Landsat** e **Sentinel**. A função identifica automaticamente o tipo de satélite, organizando corretamente os metadados para facilitar a seleção posterior. Essa rotina torna o planejamento de análises de séries temporais, mosaicos ou filtragem por qualidade muito mais eficiente e acessível.\n"
   ]
  },
  {
   "cell_type": "code",
   "execution_count": 5,
   "metadata": {
    "id": "Pn4Ki9Jzt4Yr"
   },
   "outputs": [
    {
     "data": {
      "text/html": [
       "\n",
       "            <style>\n",
       "                .geemap-dark {\n",
       "                    --jp-widgets-color: white;\n",
       "                    --jp-widgets-label-color: white;\n",
       "                    --jp-ui-font-color1: white;\n",
       "                    --jp-layout-color2: #454545;\n",
       "                    background-color: #383838;\n",
       "                }\n",
       "\n",
       "                .geemap-dark .jupyter-button {\n",
       "                    --jp-layout-color3: #383838;\n",
       "                }\n",
       "\n",
       "                .geemap-colab {\n",
       "                    background-color: var(--colab-primary-surface-color, white);\n",
       "                }\n",
       "\n",
       "                .geemap-colab .jupyter-button {\n",
       "                    --jp-layout-color3: var(--colab-primary-surface-color, white);\n",
       "                }\n",
       "            </style>\n",
       "            "
      ],
      "text/plain": [
       "<IPython.core.display.HTML object>"
      ]
     },
     "metadata": {},
     "output_type": "display_data"
    },
    {
     "name": "stderr",
     "output_type": "stream",
     "text": [
      "Coletando metadados: 100%|███████████████████████████████████████████████████████| 10/10 [00:13<00:00,  1.30s/it]\n"
     ]
    }
   ],
   "source": [
    "# Vamos usar o Landsat 8 Collection 2 Tier 1 e Level 2 (Produtos de Superífice Corrigida)\n",
    "# note que se você comentar o `time_range`, ele vai fazer para todo o produto ! O que demora cerca de 5 minutos\n",
    "\n",
    "df_landsat = gee.list_sat_images(\n",
    "    collection_id=\"LANDSAT/LC08/C02/T1_L2\",\n",
    "    roi=tijuca,\n",
    "    time_range=(\"2025-01-01\", \"2025-12-31\"),\n",
    "    max_imgs=500,\n",
    "    compute_clear_sky=True\n",
    ")"
   ]
  },
  {
   "cell_type": "code",
   "execution_count": 6,
   "metadata": {
    "id": "zgiw60Kjujr4"
   },
   "outputs": [
    {
     "data": {
      "text/html": [
       "\n",
       "            <style>\n",
       "                .geemap-dark {\n",
       "                    --jp-widgets-color: white;\n",
       "                    --jp-widgets-label-color: white;\n",
       "                    --jp-ui-font-color1: white;\n",
       "                    --jp-layout-color2: #454545;\n",
       "                    background-color: #383838;\n",
       "                }\n",
       "\n",
       "                .geemap-dark .jupyter-button {\n",
       "                    --jp-layout-color3: #383838;\n",
       "                }\n",
       "\n",
       "                .geemap-colab {\n",
       "                    background-color: var(--colab-primary-surface-color, white);\n",
       "                }\n",
       "\n",
       "                .geemap-colab .jupyter-button {\n",
       "                    --jp-layout-color3: var(--colab-primary-surface-color, white);\n",
       "                }\n",
       "            </style>\n",
       "            "
      ],
      "text/plain": [
       "<IPython.core.display.HTML object>"
      ]
     },
     "metadata": {},
     "output_type": "display_data"
    },
    {
     "data": {
      "text/html": [
       "<div>\n",
       "<style scoped>\n",
       "    .dataframe tbody tr th:only-of-type {\n",
       "        vertical-align: middle;\n",
       "    }\n",
       "\n",
       "    .dataframe tbody tr th {\n",
       "        vertical-align: top;\n",
       "    }\n",
       "\n",
       "    .dataframe thead th {\n",
       "        text-align: right;\n",
       "    }\n",
       "</style>\n",
       "<table border=\"1\" class=\"dataframe\">\n",
       "  <thead>\n",
       "    <tr style=\"text-align: right;\">\n",
       "      <th></th>\n",
       "      <th>id</th>\n",
       "      <th>date</th>\n",
       "      <th>satellite</th>\n",
       "      <th>img_cloud_cover</th>\n",
       "      <th>solar_elevation</th>\n",
       "      <th>solar_azimuth</th>\n",
       "      <th>proportion_roi_%</th>\n",
       "      <th>clear_sky_%</th>\n",
       "    </tr>\n",
       "  </thead>\n",
       "  <tbody>\n",
       "    <tr>\n",
       "      <th>0</th>\n",
       "      <td>LANDSAT/LC08/C02/T1_L2/LC08_217076_20250107</td>\n",
       "      <td>2025-01-07 12:52:04.673</td>\n",
       "      <td>LANDSAT_8</td>\n",
       "      <td>87</td>\n",
       "      <td>61</td>\n",
       "      <td>95</td>\n",
       "      <td>100.0</td>\n",
       "      <td>10.2</td>\n",
       "    </tr>\n",
       "    <tr>\n",
       "      <th>1</th>\n",
       "      <td>LANDSAT/LC08/C02/T1_L2/LC08_217076_20250123</td>\n",
       "      <td>2025-01-23 12:51:58.624</td>\n",
       "      <td>LANDSAT_8</td>\n",
       "      <td>25</td>\n",
       "      <td>59</td>\n",
       "      <td>89</td>\n",
       "      <td>100.0</td>\n",
       "      <td>56.6</td>\n",
       "    </tr>\n",
       "    <tr>\n",
       "      <th>2</th>\n",
       "      <td>LANDSAT/LC08/C02/T1_L2/LC08_217076_20250208</td>\n",
       "      <td>2025-02-08 12:52:02.749</td>\n",
       "      <td>LANDSAT_8</td>\n",
       "      <td>13</td>\n",
       "      <td>57</td>\n",
       "      <td>82</td>\n",
       "      <td>100.0</td>\n",
       "      <td>67.0</td>\n",
       "    </tr>\n",
       "    <tr>\n",
       "      <th>3</th>\n",
       "      <td>LANDSAT/LC08/C02/T1_L2/LC08_217076_20250224</td>\n",
       "      <td>2025-02-24 12:51:52.524</td>\n",
       "      <td>LANDSAT_8</td>\n",
       "      <td>2</td>\n",
       "      <td>55</td>\n",
       "      <td>72</td>\n",
       "      <td>100.0</td>\n",
       "      <td>97.3</td>\n",
       "    </tr>\n",
       "    <tr>\n",
       "      <th>4</th>\n",
       "      <td>LANDSAT/LC08/C02/T1_L2/LC08_217076_20250312</td>\n",
       "      <td>2025-03-12 12:51:49.365</td>\n",
       "      <td>LANDSAT_8</td>\n",
       "      <td>16</td>\n",
       "      <td>52</td>\n",
       "      <td>63</td>\n",
       "      <td>100.0</td>\n",
       "      <td>82.5</td>\n",
       "    </tr>\n",
       "    <tr>\n",
       "      <th>5</th>\n",
       "      <td>LANDSAT/LC08/C02/T1_L2/LC08_217076_20250328</td>\n",
       "      <td>2025-03-28 12:51:39.031</td>\n",
       "      <td>LANDSAT_8</td>\n",
       "      <td>5</td>\n",
       "      <td>49</td>\n",
       "      <td>54</td>\n",
       "      <td>100.0</td>\n",
       "      <td>86.2</td>\n",
       "    </tr>\n",
       "    <tr>\n",
       "      <th>6</th>\n",
       "      <td>LANDSAT/LC08/C02/T1_L2/LC08_217076_20250413</td>\n",
       "      <td>2025-04-13 12:51:33.950</td>\n",
       "      <td>LANDSAT_8</td>\n",
       "      <td>32</td>\n",
       "      <td>46</td>\n",
       "      <td>46</td>\n",
       "      <td>100.0</td>\n",
       "      <td>16.6</td>\n",
       "    </tr>\n",
       "    <tr>\n",
       "      <th>7</th>\n",
       "      <td>LANDSAT/LC08/C02/T1_L2/LC08_217076_20250515</td>\n",
       "      <td>2025-05-15 12:51:24.527</td>\n",
       "      <td>LANDSAT_8</td>\n",
       "      <td>8</td>\n",
       "      <td>39</td>\n",
       "      <td>37</td>\n",
       "      <td>100.0</td>\n",
       "      <td>96.2</td>\n",
       "    </tr>\n",
       "    <tr>\n",
       "      <th>8</th>\n",
       "      <td>LANDSAT/LC08/C02/T1_L2/LC08_217076_20250531</td>\n",
       "      <td>2025-05-31 12:51:28.396</td>\n",
       "      <td>LANDSAT_8</td>\n",
       "      <td>39</td>\n",
       "      <td>36</td>\n",
       "      <td>35</td>\n",
       "      <td>100.0</td>\n",
       "      <td>90.3</td>\n",
       "    </tr>\n",
       "    <tr>\n",
       "      <th>9</th>\n",
       "      <td>LANDSAT/LC08/C02/T1_L2/LC08_217076_20250616</td>\n",
       "      <td>2025-06-16 12:51:38.936</td>\n",
       "      <td>LANDSAT_8</td>\n",
       "      <td>0</td>\n",
       "      <td>35</td>\n",
       "      <td>35</td>\n",
       "      <td>100.0</td>\n",
       "      <td>97.4</td>\n",
       "    </tr>\n",
       "  </tbody>\n",
       "</table>\n",
       "</div>"
      ],
      "text/plain": [
       "                                            id                    date  \\\n",
       "0  LANDSAT/LC08/C02/T1_L2/LC08_217076_20250107 2025-01-07 12:52:04.673   \n",
       "1  LANDSAT/LC08/C02/T1_L2/LC08_217076_20250123 2025-01-23 12:51:58.624   \n",
       "2  LANDSAT/LC08/C02/T1_L2/LC08_217076_20250208 2025-02-08 12:52:02.749   \n",
       "3  LANDSAT/LC08/C02/T1_L2/LC08_217076_20250224 2025-02-24 12:51:52.524   \n",
       "4  LANDSAT/LC08/C02/T1_L2/LC08_217076_20250312 2025-03-12 12:51:49.365   \n",
       "5  LANDSAT/LC08/C02/T1_L2/LC08_217076_20250328 2025-03-28 12:51:39.031   \n",
       "6  LANDSAT/LC08/C02/T1_L2/LC08_217076_20250413 2025-04-13 12:51:33.950   \n",
       "7  LANDSAT/LC08/C02/T1_L2/LC08_217076_20250515 2025-05-15 12:51:24.527   \n",
       "8  LANDSAT/LC08/C02/T1_L2/LC08_217076_20250531 2025-05-31 12:51:28.396   \n",
       "9  LANDSAT/LC08/C02/T1_L2/LC08_217076_20250616 2025-06-16 12:51:38.936   \n",
       "\n",
       "   satellite  img_cloud_cover  solar_elevation  solar_azimuth  \\\n",
       "0  LANDSAT_8               87               61             95   \n",
       "1  LANDSAT_8               25               59             89   \n",
       "2  LANDSAT_8               13               57             82   \n",
       "3  LANDSAT_8                2               55             72   \n",
       "4  LANDSAT_8               16               52             63   \n",
       "5  LANDSAT_8                5               49             54   \n",
       "6  LANDSAT_8               32               46             46   \n",
       "7  LANDSAT_8                8               39             37   \n",
       "8  LANDSAT_8               39               36             35   \n",
       "9  LANDSAT_8                0               35             35   \n",
       "\n",
       "   proportion_roi_%  clear_sky_%  \n",
       "0             100.0         10.2  \n",
       "1             100.0         56.6  \n",
       "2             100.0         67.0  \n",
       "3             100.0         97.3  \n",
       "4             100.0         82.5  \n",
       "5             100.0         86.2  \n",
       "6             100.0         16.6  \n",
       "7             100.0         96.2  \n",
       "8             100.0         90.3  \n",
       "9             100.0         97.4  "
      ]
     },
     "execution_count": 6,
     "metadata": {},
     "output_type": "execute_result"
    }
   ],
   "source": [
    "df_landsat # verificando consistência do arquivo"
   ]
  },
  {
   "cell_type": "markdown",
   "metadata": {
    "id": "k8GpQQD7u5q9"
   },
   "source": [
    "O DataFrame gerado pela função `list_sat_images` apresenta uma tabela com os principais atributos de cada imagem localizada para a coleção e intervalo de datas escolhidos.\n",
    "\n",
    "Cada linha da tabela corresponde a uma imagem individual, e as colunas representam:\n",
    "\n",
    "- **id**: Identificador completo da imagem na coleção do Earth Engine.\n",
    "- **date**: Data e hora de aquisição da imagem.\n",
    "- **satellite**: Nome do satélite que capturou a imagem (neste caso, sempre `LANDSAT_8`).\n",
    "- **img_cloud_cover**: Percentual de cobertura de nuvens reportado na imagem.\n",
    "- **solar_elevation**: Ângulo de elevação solar no momento da aquisição, em graus.\n",
    "- **solar_azimuth**: Azimute solar (posição do sol em relação ao norte), em graus.\n",
    "- **proportion_roi_%**: Percentual da região de interesse (ROI) coberta pela imagem.\n",
    "- **clear_sky_%**: Percentual da ROI livre de nuvens, calculado usando a máscara de nuvem (`QA_PIXEL`).\n",
    "\n",
    "---\n",
    "\n",
    "Este resultado permite filtrar rapidamente as melhores imagens para análise, priorizando, por exemplo, aquelas com maior `clear_sky_%` e menor `img_cloud_cover`.\n",
    "\n",
    "Note que `clear_sky_%` é bem consistente com `img_cloud_cover`."
   ]
  },
  {
   "cell_type": "code",
   "execution_count": 12,
   "metadata": {
    "id": "7_JnVbLovGlA"
   },
   "outputs": [
    {
     "data": {
      "text/html": [
       "\n",
       "            <style>\n",
       "                .geemap-dark {\n",
       "                    --jp-widgets-color: white;\n",
       "                    --jp-widgets-label-color: white;\n",
       "                    --jp-ui-font-color1: white;\n",
       "                    --jp-layout-color2: #454545;\n",
       "                    background-color: #383838;\n",
       "                }\n",
       "\n",
       "                .geemap-dark .jupyter-button {\n",
       "                    --jp-layout-color3: #383838;\n",
       "                }\n",
       "\n",
       "                .geemap-colab {\n",
       "                    background-color: var(--colab-primary-surface-color, white);\n",
       "                }\n",
       "\n",
       "                .geemap-colab .jupyter-button {\n",
       "                    --jp-layout-color3: var(--colab-primary-surface-color, white);\n",
       "                }\n",
       "            </style>\n",
       "            "
      ],
      "text/plain": [
       "<IPython.core.display.HTML object>"
      ]
     },
     "metadata": {},
     "output_type": "display_data"
    },
    {
     "data": {
      "image/png": "[encoded data removed]",
      "text/plain": [
       "<Figure size 1000x600 with 1 Axes>"
      ]
     },
     "metadata": {},
     "output_type": "display_data"
    }
   ],
   "source": [
    "import seaborn as sns\n",
    "import matplotlib.pyplot as plt\n",
    "\n",
    "# Remove valores nulos ou NaN\n",
    "df_plot = df_landsat.dropna(subset=['clear_sky_%'])\n",
    "\n",
    "# Cria o histograma\n",
    "plt.figure(figsize=(10, 6))\n",
    "sns.histplot(df_plot['clear_sky_%'], bins=20, kde=True, color='skyblue')\n",
    "\n",
    "# Ajustes visuais\n",
    "plt.title('Distribuição do Percentual de Céu Claro (Landsat8)', fontsize=14)\n",
    "plt.xlabel('Clear Sky (%)')\n",
    "plt.ylabel('Frequência')\n",
    "plt.grid(True)\n",
    "\n",
    "# Exibe\n",
    "plt.tight_layout()\n",
    "plt.show()"
   ]
  },
  {
   "cell_type": "markdown",
   "metadata": {
    "id": "PAPR6kkQvN2n"
   },
   "source": [
    "**Note** que há poucas imagens com Clear Sky % <20 ! Use essa informação para você selecionar as imagens da coleção que você quer trabalhar.<br>\n",
    "\n",
    "Agora vamos obter o mesmo resultado para o sentinel. Veja que coloquei um range de datas aqui ! porque há muitos dados do Sentinel. Caso você queria obter a tabela do repositório inteiro, fique atento ao `max_imgs` de retorno.\n",
    "\n",
    "**Observação**: principalmente par ao Sentinel, o cálculo de clear_sky_% depende de uma interação massiva com as imagens. Tenha *paciência* pois esse trecho pode demorar alguns minutos, mas vale a pena ! pois assim você já terá todos os dados das imagens que precisa. Lembrando que para ROIs pequenos, as vezes o `img_cloud_cover`(que é o percentual da imagem completa coberta de nuvens) não irá representar o real \"cloud cover\" sobre o ROI. Por isso é interessante ter paciência aqui na sua análise."
   ]
  },
  {
   "cell_type": "code",
   "execution_count": 5,
   "metadata": {
    "id": "JGU0OGu0vUYb"
   },
   "outputs": [
    {
     "data": {
      "text/html": [
       "\n",
       "            <style>\n",
       "                .geemap-dark {\n",
       "                    --jp-widgets-color: white;\n",
       "                    --jp-widgets-label-color: white;\n",
       "                    --jp-ui-font-color1: white;\n",
       "                    --jp-layout-color2: #454545;\n",
       "                    background-color: #383838;\n",
       "                }\n",
       "\n",
       "                .geemap-dark .jupyter-button {\n",
       "                    --jp-layout-color3: #383838;\n",
       "                }\n",
       "\n",
       "                .geemap-colab {\n",
       "                    background-color: var(--colab-primary-surface-color, white);\n",
       "                }\n",
       "\n",
       "                .geemap-colab .jupyter-button {\n",
       "                    --jp-layout-color3: var(--colab-primary-surface-color, white);\n",
       "                }\n",
       "            </style>\n",
       "            "
      ],
      "text/plain": [
       "<IPython.core.display.HTML object>"
      ]
     },
     "metadata": {},
     "output_type": "display_data"
    },
    {
     "name": "stderr",
     "output_type": "stream",
     "text": [
      "Coletando metadados: 100%|█████████████████████████████████████████████████████████| 5/5 [00:12<00:00,  2.49s/it]\n"
     ]
    }
   ],
   "source": [
    "# Chamada da função principal\n",
    "df_sentinel = gee.list_sat_images(\n",
    "    collection_id=\"COPERNICUS/S2_SR_HARMONIZED\",\n",
    "    roi=tijuca,\n",
    "    max_imgs=500,\n",
    "    compute_clear_sky=True,\n",
    "    time_range=(\"2025-01-01\", \"2025-01-31\")\n",
    ")"
   ]
  },
  {
   "cell_type": "code",
   "execution_count": 6,
   "metadata": {
    "id": "ongXCUETvdPu"
   },
   "outputs": [
    {
     "data": {
      "text/html": [
       "\n",
       "            <style>\n",
       "                .geemap-dark {\n",
       "                    --jp-widgets-color: white;\n",
       "                    --jp-widgets-label-color: white;\n",
       "                    --jp-ui-font-color1: white;\n",
       "                    --jp-layout-color2: #454545;\n",
       "                    background-color: #383838;\n",
       "                }\n",
       "\n",
       "                .geemap-dark .jupyter-button {\n",
       "                    --jp-layout-color3: #383838;\n",
       "                }\n",
       "\n",
       "                .geemap-colab {\n",
       "                    background-color: var(--colab-primary-surface-color, white);\n",
       "                }\n",
       "\n",
       "                .geemap-colab .jupyter-button {\n",
       "                    --jp-layout-color3: var(--colab-primary-surface-color, white);\n",
       "                }\n",
       "            </style>\n",
       "            "
      ],
      "text/plain": [
       "<IPython.core.display.HTML object>"
      ]
     },
     "metadata": {},
     "output_type": "display_data"
    },
    {
     "data": {
      "text/html": [
       "<div>\n",
       "<style scoped>\n",
       "    .dataframe tbody tr th:only-of-type {\n",
       "        vertical-align: middle;\n",
       "    }\n",
       "\n",
       "    .dataframe tbody tr th {\n",
       "        vertical-align: top;\n",
       "    }\n",
       "\n",
       "    .dataframe thead th {\n",
       "        text-align: right;\n",
       "    }\n",
       "</style>\n",
       "<table border=\"1\" class=\"dataframe\">\n",
       "  <thead>\n",
       "    <tr style=\"text-align: right;\">\n",
       "      <th></th>\n",
       "      <th>id</th>\n",
       "      <th>date</th>\n",
       "      <th>satellite</th>\n",
       "      <th>img_cloud_cover</th>\n",
       "      <th>solar_elevation</th>\n",
       "      <th>solar_azimuth</th>\n",
       "      <th>proportion_roi_%</th>\n",
       "      <th>clear_sky_%</th>\n",
       "    </tr>\n",
       "  </thead>\n",
       "  <tbody>\n",
       "    <tr>\n",
       "      <th>0</th>\n",
       "      <td>COPERNICUS/S2_SR_HARMONIZED/20250102T130249_20...</td>\n",
       "      <td>2025-01-02 13:08:36.451</td>\n",
       "      <td>Sentinel-2B</td>\n",
       "      <td>16</td>\n",
       "      <td>65</td>\n",
       "      <td>95</td>\n",
       "      <td>100.0</td>\n",
       "      <td>56.5</td>\n",
       "    </tr>\n",
       "    <tr>\n",
       "      <th>1</th>\n",
       "      <td>COPERNICUS/S2_SR_HARMONIZED/20250112T130249_20...</td>\n",
       "      <td>2025-01-12 13:08:35.975</td>\n",
       "      <td>Sentinel-2B</td>\n",
       "      <td>93</td>\n",
       "      <td>64</td>\n",
       "      <td>92</td>\n",
       "      <td>100.0</td>\n",
       "      <td>0.0</td>\n",
       "    </tr>\n",
       "    <tr>\n",
       "      <th>2</th>\n",
       "      <td>COPERNICUS/S2_SR_HARMONIZED/20250117T130241_20...</td>\n",
       "      <td>2025-01-17 13:08:35.052</td>\n",
       "      <td>Sentinel-2A</td>\n",
       "      <td>30</td>\n",
       "      <td>63</td>\n",
       "      <td>90</td>\n",
       "      <td>100.0</td>\n",
       "      <td>95.8</td>\n",
       "    </tr>\n",
       "    <tr>\n",
       "      <th>3</th>\n",
       "      <td>COPERNICUS/S2_SR_HARMONIZED/20250122T130249_20...</td>\n",
       "      <td>2025-01-22 13:08:37.798</td>\n",
       "      <td>Sentinel-2B</td>\n",
       "      <td>71</td>\n",
       "      <td>63</td>\n",
       "      <td>88</td>\n",
       "      <td>100.0</td>\n",
       "      <td>29.6</td>\n",
       "    </tr>\n",
       "    <tr>\n",
       "      <th>4</th>\n",
       "      <td>COPERNICUS/S2_SR_HARMONIZED/20250127T130311_20...</td>\n",
       "      <td>2025-01-27 13:09:04.429</td>\n",
       "      <td>Sentinel-2C</td>\n",
       "      <td>97</td>\n",
       "      <td>62</td>\n",
       "      <td>86</td>\n",
       "      <td>100.0</td>\n",
       "      <td>0.0</td>\n",
       "    </tr>\n",
       "  </tbody>\n",
       "</table>\n",
       "</div>"
      ],
      "text/plain": [
       "                                                  id                    date  \\\n",
       "0  COPERNICUS/S2_SR_HARMONIZED/20250102T130249_20... 2025-01-02 13:08:36.451   \n",
       "1  COPERNICUS/S2_SR_HARMONIZED/20250112T130249_20... 2025-01-12 13:08:35.975   \n",
       "2  COPERNICUS/S2_SR_HARMONIZED/20250117T130241_20... 2025-01-17 13:08:35.052   \n",
       "3  COPERNICUS/S2_SR_HARMONIZED/20250122T130249_20... 2025-01-22 13:08:37.798   \n",
       "4  COPERNICUS/S2_SR_HARMONIZED/20250127T130311_20... 2025-01-27 13:09:04.429   \n",
       "\n",
       "     satellite  img_cloud_cover  solar_elevation  solar_azimuth  \\\n",
       "0  Sentinel-2B               16               65             95   \n",
       "1  Sentinel-2B               93               64             92   \n",
       "2  Sentinel-2A               30               63             90   \n",
       "3  Sentinel-2B               71               63             88   \n",
       "4  Sentinel-2C               97               62             86   \n",
       "\n",
       "   proportion_roi_%  clear_sky_%  \n",
       "0             100.0         56.5  \n",
       "1             100.0          0.0  \n",
       "2             100.0         95.8  \n",
       "3             100.0         29.6  \n",
       "4             100.0          0.0  "
      ]
     },
     "execution_count": 6,
     "metadata": {},
     "output_type": "execute_result"
    }
   ],
   "source": [
    "df_sentinel # e o resultado ..."
   ]
  },
  {
   "cell_type": "code",
   "execution_count": 7,
   "metadata": {},
   "outputs": [
    {
     "data": {
      "text/html": [
       "\n",
       "            <style>\n",
       "                .geemap-dark {\n",
       "                    --jp-widgets-color: white;\n",
       "                    --jp-widgets-label-color: white;\n",
       "                    --jp-ui-font-color1: white;\n",
       "                    --jp-layout-color2: #454545;\n",
       "                    background-color: #383838;\n",
       "                }\n",
       "\n",
       "                .geemap-dark .jupyter-button {\n",
       "                    --jp-layout-color3: #383838;\n",
       "                }\n",
       "\n",
       "                .geemap-colab {\n",
       "                    background-color: var(--colab-primary-surface-color, white);\n",
       "                }\n",
       "\n",
       "                .geemap-colab .jupyter-button {\n",
       "                    --jp-layout-color3: var(--colab-primary-surface-color, white);\n",
       "                }\n",
       "            </style>\n",
       "            "
      ],
      "text/plain": [
       "<IPython.core.display.HTML object>"
      ]
     },
     "metadata": {},
     "output_type": "display_data"
    },
    {
     "name": "stdout",
     "output_type": "stream",
     "text": [
      "Percentual de céu claro: 56.5 %\n"
     ]
    }
   ],
   "source": [
    "# note que você pode calcular o percentual de céu claro com seu ROI sobre uma imagem única\n",
    "import ee\n",
    "from geemap_tools.clouds import get_clear_sky_percentage\n",
    "\n",
    "# Define a imagem Sentinel-2 harmonizada\n",
    "img = ee.Image(\"COPERNICUS/S2_SR_HARMONIZED/20250102T130249_20250102T130726_T23KPQ\")\n",
    "\n",
    "# Define sua ROI (exemplo: já definida como tijuca)\n",
    "# tijuca = gee.file_to_roi(\"Floresta_da_Tijuca_original.zip\").geometry()\n",
    "\n",
    "# Calcula o percentual de céu claro\n",
    "clear_sky = get_clear_sky_percentage(img, roi=tijuca, debug=True)\n",
    "\n",
    "print(f\"Percentual de céu claro: {clear_sky} %\")"
   ]
  },
  {
   "cell_type": "code",
   "execution_count": 8,
   "metadata": {
    "id": "C8RwI3r6wAMi"
   },
   "outputs": [
    {
     "data": {
      "text/html": [
       "\n",
       "            <style>\n",
       "                .geemap-dark {\n",
       "                    --jp-widgets-color: white;\n",
       "                    --jp-widgets-label-color: white;\n",
       "                    --jp-ui-font-color1: white;\n",
       "                    --jp-layout-color2: #454545;\n",
       "                    background-color: #383838;\n",
       "                }\n",
       "\n",
       "                .geemap-dark .jupyter-button {\n",
       "                    --jp-layout-color3: #383838;\n",
       "                }\n",
       "\n",
       "                .geemap-colab {\n",
       "                    background-color: var(--colab-primary-surface-color, white);\n",
       "                }\n",
       "\n",
       "                .geemap-colab .jupyter-button {\n",
       "                    --jp-layout-color3: var(--colab-primary-surface-color, white);\n",
       "                }\n",
       "            </style>\n",
       "            "
      ],
      "text/plain": [
       "<IPython.core.display.HTML object>"
      ]
     },
     "metadata": {},
     "output_type": "display_data"
    },
    {
     "data": {
      "application/vnd.jupyter.widget-view+json": {
       "model_id": "dbd4e76dccd24b1f95fcc22fd30f1711",
       "version_major": 2,
       "version_minor": 0
      },
      "text/plain": [
       "Map(center=[-22.949512677160616, -43.28100173805031], controls=(WidgetControl(options=['position', 'transparen…"
      ]
     },
     "execution_count": 8,
     "metadata": {},
     "output_type": "execute_result"
    }
   ],
   "source": [
    "# vamos criar um mapa para mostrar como essa imagem se apresenta\n",
    "Map = geemap.Map()\n",
    "Map.centerObject(tijuca, zoom=11)\n",
    "Map.addLayer(img, {'bands': ['B4', 'B3', 'B2'], 'min': 0, 'max': 3000}, 'RGB')\n",
    "Map.addLayer(tijuca, {'color': 'blue'}, 'ROI Tijuca')\n",
    "Map"
   ]
  },
  {
   "cell_type": "markdown",
   "metadata": {
    "id": "yBMj8_2RwO_G"
   },
   "source": [
    "### Visualizando Nuvens em uma Imagem Landsat 8\n",
    "\n",
    "Neste exemplo, selecionamos uma imagem do Landsat 8 que possui presença significativa de nuvens, com o objetivo de visualizar tanto a imagem original quanto a máscara de nuvens gerada a partir do atributo `QA_PIXEL`.\n",
    "\n",
    "Os passos realizados são:\n",
    "\n",
    "- Selecionar uma imagem específica da coleção `LANDSAT/LC08/C02/T1_L2`.\n",
    "- Visualizar a banda vermelha (`SR_B4`) em tons de cinza para facilitar a identificação visual.\n",
    "- Criar uma máscara de nuvens utilizando o bit 3 da banda `QA_PIXEL`, que indica a presença de nuvens.\n",
    "- Adicionar ao mapa a imagem original, a máscara de nuvens destacada em vermelho e o contorno da região de interesse (Floresta da Tijuca).\n"
   ]
  },
  {
   "cell_type": "code",
   "execution_count": 9,
   "metadata": {
    "id": "KKKsyIFpwSx5",
    "scrolled": true
   },
   "outputs": [
    {
     "data": {
      "text/html": [
       "\n",
       "            <style>\n",
       "                .geemap-dark {\n",
       "                    --jp-widgets-color: white;\n",
       "                    --jp-widgets-label-color: white;\n",
       "                    --jp-ui-font-color1: white;\n",
       "                    --jp-layout-color2: #454545;\n",
       "                    background-color: #383838;\n",
       "                }\n",
       "\n",
       "                .geemap-dark .jupyter-button {\n",
       "                    --jp-layout-color3: #383838;\n",
       "                }\n",
       "\n",
       "                .geemap-colab {\n",
       "                    background-color: var(--colab-primary-surface-color, white);\n",
       "                }\n",
       "\n",
       "                .geemap-colab .jupyter-button {\n",
       "                    --jp-layout-color3: var(--colab-primary-surface-color, white);\n",
       "                }\n",
       "            </style>\n",
       "            "
      ],
      "text/plain": [
       "<IPython.core.display.HTML object>"
      ]
     },
     "metadata": {},
     "output_type": "display_data"
    },
    {
     "data": {
      "application/vnd.jupyter.widget-view+json": {
       "model_id": "cc4c080fcfb84a32b6b25a646bd54d32",
       "version_major": 2,
       "version_minor": 0
      },
      "text/plain": [
       "Map(center=[-22.949512677160616, -43.28100173805031], controls=(WidgetControl(options=['position', 'transparen…"
      ]
     },
     "execution_count": 9,
     "metadata": {},
     "output_type": "execute_result"
    }
   ],
   "source": [
    "# Seleciona a imagem Landsat 8 que tem nuvens\n",
    "img = ee.Image(\"LANDSAT/LC08/C02/T1_L2/LC08_217076_20180613\")\n",
    "\n",
    "# Seleciona uma banda visível para visualização em tons de cinza\n",
    "gray_vis = {\n",
    "    'bands': ['SR_B4'],  # Banda vermelha\n",
    "    'min': 5000,\n",
    "    'max': 16000,\n",
    "    'gamma': 1.2\n",
    "}\n",
    "\n",
    "# Cria o mapa centrado na imagem\n",
    "Map = geemap.Map()\n",
    "Map.centerObject(tijuca, zoom=11)\n",
    "\n",
    "# Adiciona a imagem original em escala de cinza\n",
    "Map.addLayer(img, gray_vis, \"Imagem em cinza (SR_B4)\")\n",
    "\n",
    "# Opcional: Adiciona a máscara de nuvem (QA_PIXEL bit 3)\n",
    "cloud_mask = img.select('QA_PIXEL').bitwiseAnd(1 << 3).neq(0)\n",
    "Map.addLayer(cloud_mask.updateMask(cloud_mask), {'palette': ['red']}, 'Máscara de nuvem (QA_PIXEL)')\n",
    "# Adiciona o contorno do ROI\n",
    "Map.addLayer(tijuca, {'color': 'blue'}, 'Floresta da Tijuca')\n",
    "\n",
    "Map"
   ]
  },
  {
   "cell_type": "markdown",
   "metadata": {},
   "source": [
    "### Visualização de Nuvens em Imagens Sentinel-2\n",
    "\n",
    "O código abaixo também pode ser usado para verificar a presença de nuvens em uma imagem Sentinel-2.  \n",
    "A máscara é construída com base na banda `SCL`, que classifica pixels por tipo de cobertura, incluindo nuvens e sombras.  \n",
    "A camada resultante destaca em vermelho as regiões com maior probabilidade de nuvem sobre a área de interesse.\n"
   ]
  },
  {
   "cell_type": "code",
   "execution_count": 10,
   "metadata": {
    "id": "GYtYE5pewaSY"
   },
   "outputs": [
    {
     "data": {
      "text/html": [
       "\n",
       "            <style>\n",
       "                .geemap-dark {\n",
       "                    --jp-widgets-color: white;\n",
       "                    --jp-widgets-label-color: white;\n",
       "                    --jp-ui-font-color1: white;\n",
       "                    --jp-layout-color2: #454545;\n",
       "                    background-color: #383838;\n",
       "                }\n",
       "\n",
       "                .geemap-dark .jupyter-button {\n",
       "                    --jp-layout-color3: #383838;\n",
       "                }\n",
       "\n",
       "                .geemap-colab {\n",
       "                    background-color: var(--colab-primary-surface-color, white);\n",
       "                }\n",
       "\n",
       "                .geemap-colab .jupyter-button {\n",
       "                    --jp-layout-color3: var(--colab-primary-surface-color, white);\n",
       "                }\n",
       "            </style>\n",
       "            "
      ],
      "text/plain": [
       "<IPython.core.display.HTML object>"
      ]
     },
     "metadata": {},
     "output_type": "display_data"
    },
    {
     "data": {
      "application/vnd.jupyter.widget-view+json": {
       "model_id": "8f85c0b6b0be406fa9a67348a21aa125",
       "version_major": 2,
       "version_minor": 0
      },
      "text/plain": [
       "Map(center=[-22.949512677160616, -43.28100173805031], controls=(WidgetControl(options=['position', 'transparen…"
      ]
     },
     "execution_count": 10,
     "metadata": {},
     "output_type": "execute_result"
    }
   ],
   "source": [
    "# Carrega a imagem Sentinel-2 que também tem nuvens\n",
    "img = ee.Image(\"COPERNICUS/S2_SR/20181225T130249_20181225T130243_T23KPQ\")\n",
    "\n",
    "# Visualização em tons de cinza (banda B4 - vermelho)\n",
    "gray_vis = {\n",
    "    'bands': ['B4'],  # Banda vermelha (10m)\n",
    "    'min': 0,\n",
    "    'max': 3000,\n",
    "    'gamma': 1.2\n",
    "}\n",
    "\n",
    "# Cria máscara de nuvem com base na banda SCL\n",
    "# Códigos 6, 7, 8, 9 representam diferentes tipos de nuvens\n",
    "scl = img.select('SCL')\n",
    "cloud_mask = scl.remap([6, 7, 8, 9], [1, 1, 1, 1], defaultValue=0).rename('cloud')\n",
    "cloud_mask = cloud_mask.updateMask(cloud_mask)  # aplica máscara apenas onde há nuvem\n",
    "\n",
    "# Cria o mapa\n",
    "Map = geemap.Map()\n",
    "Map.centerObject(tijuca, zoom=11)\n",
    "\n",
    "# Adiciona a imagem em tons de cinza\n",
    "Map.addLayer(img, gray_vis, \"Imagem em cinza (B4 - Sentinel-2)\")\n",
    "\n",
    "# Adiciona a máscara de nuvem\n",
    "Map.addLayer(cloud_mask, {'palette': ['red']}, 'Máscara de Nuvem (SCL)')\n",
    "\n",
    "# Adiciona a ROI\n",
    "Map.addLayer(tijuca, {'color': 'blue'}, 'Floresta da Tijuca')\n",
    "\n",
    "Map"
   ]
  },
  {
   "cell_type": "markdown",
   "metadata": {
    "id": "xwE6OgdDwn8A"
   },
   "source": [
    "## Análise de Séries Temporais com Sentinel-2\n",
    "\n",
    "Neste exemplo, utilizaremos a função `list_sat_images` para consultar imagens Sentinel-2 e gerar uma série temporal de NDVI sobre a área definida.\n",
    "\n",
    "Embora a coleção `COPERNICUS/S2_SR` contenha dados desde 2015, neste teste faremos uma consulta restrita ao intervalo entre **2024 e 2025**, com o objetivo de validar o desempenho e a resposta do Earth Engine em um período mais recente.\n",
    "\n",
    "É importante destacar que, ao lidar com períodos mais longos — por exemplo, de 2015 a 2025 — o número de imagens pode ultrapassar 450 cenas, o que aumenta significativamente a carga de requisições. Em ambientes locais, isso pode causar lentidão, falhas ou até bloqueios temporários de conexão com o Earth Engine devido à sobrecarga da API.\n",
    "\n",
    "Por boas práticas, recomenda-se dividir a busca por intervalos menores (ano a ano ou por estação do ano), garantindo maior controle e estabilidade no processamento.\n",
    "\n",
    "Este teste serve também como demonstração das limitações locais e reforça a recomendação de executar análises longas em ambientes otimizados, como o Google Colab, onde a integração com o Earth Engine é mais fluida e robusta.\n",
    "\n",
    "**Observação:** Uma execução completa entre 2015 e 2025 pode levar mais de **4 horas** apenas para listar as imagens. Portanto, estratégias de particionamento e uso em nuvem são fundamentais para projetos com séries temporais extensas.\n",
    "\n"
   ]
  },
  {
   "cell_type": "code",
   "execution_count": 12,
   "metadata": {
    "id": "XIs9w9sswqyC"
   },
   "outputs": [
    {
     "data": {
      "text/html": [
       "\n",
       "            <style>\n",
       "                .geemap-dark {\n",
       "                    --jp-widgets-color: white;\n",
       "                    --jp-widgets-label-color: white;\n",
       "                    --jp-ui-font-color1: white;\n",
       "                    --jp-layout-color2: #454545;\n",
       "                    background-color: #383838;\n",
       "                }\n",
       "\n",
       "                .geemap-dark .jupyter-button {\n",
       "                    --jp-layout-color3: #383838;\n",
       "                }\n",
       "\n",
       "                .geemap-colab {\n",
       "                    background-color: var(--colab-primary-surface-color, white);\n",
       "                }\n",
       "\n",
       "                .geemap-colab .jupyter-button {\n",
       "                    --jp-layout-color3: var(--colab-primary-surface-color, white);\n",
       "                }\n",
       "            </style>\n",
       "            "
      ],
      "text/plain": [
       "<IPython.core.display.HTML object>"
      ]
     },
     "metadata": {},
     "output_type": "display_data"
    },
    {
     "name": "stderr",
     "output_type": "stream",
     "text": [
      "Coletando metadados: 100%|███████████████████████████████████████████████████| 116/116 [2:28:30<00:00, 76.82s/it]\n"
     ]
    }
   ],
   "source": [
    "df_sentinel = gee.list_sat_images(\n",
    "    collection_id=\"COPERNICUS/S2_SR\",\n",
    "    roi=tijuca,\n",
    "    max_imgs=500,\n",
    "    compute_clear_sky=True,\n",
    "    time_range=(\"2024-01-01\", \"2025-12-31\") # note que aqui estou pegando apenas 2 anos - 116 imagens ~36 minutos\n",
    ")"
   ]
  },
  {
   "cell_type": "markdown",
   "metadata": {
    "id": "2Q8C65r2JFxn"
   },
   "source": [
    "## Criando uma Série Temporal do NDVI\n",
    "\n",
    "Agora que já temos o `df_landsat` e `df_sentinel`, vamos criar uma série temporal utilizando a média e o desvio padrão do NDVI (Índice de Vegetação por Diferença Normalizada).\n",
    "\n",
    "Vamos usar a função `index_to_timeseries`, que pode ser aplicada a qualquer índice disponível no pacote [`eemont`](https://eemont.readthedocs.io/en/latest/). Recomendo dar uma olhada na documentação para conhecer todos os índices suportados!\n",
    "\n",
    "> ⚠️ Atenção: Se estiver trabalhando com conjuntos de dados muito grandes, essa operação pode demorar um pouco para ser concluída.\n"
   ]
  },
  {
   "cell_type": "code",
   "execution_count": null,
   "metadata": {
    "id": "Yu8k2JxPJlYR"
   },
   "outputs": [],
   "source": [
    "# Supondo que você já tenha carregado 'tijuca' como ee.Geometry !\n",
    "df_ndvi_landsat = gee.index_to_timeseries(df_landsat, tijuca, index_name='NDVI', debug=False)\n",
    "df_ndvi_sentinel = gee.index_to_timeseries(df_sentinel, tijuca, index_name='NDVI', debug=False)"
   ]
  },
  {
   "cell_type": "markdown",
   "metadata": {
    "id": "1WjuNqtYNtea"
   },
   "source": [
    "Verifique sempre o resultado !"
   ]
  },
  {
   "cell_type": "code",
   "execution_count": null,
   "metadata": {
    "id": "7VGqeGILNqp-"
   },
   "outputs": [],
   "source": [
    "df_ndvi_landsat.head() # verificando..."
   ]
  },
  {
   "cell_type": "markdown",
   "metadata": {
    "id": "i2hh4GYcNzQu"
   },
   "source": [
    "Vamos fazer um plot comparativo ..... Modifique para sua aplicação"
   ]
  },
  {
   "cell_type": "code",
   "execution_count": null,
   "metadata": {
    "id": "cmZpANAeN1s4"
   },
   "outputs": [],
   "source": [
    "import matplotlib.pyplot as plt\n",
    "import seaborn as sns\n",
    "import numpy as np\n",
    "\n",
    "# Ordena os DataFrames por data\n",
    "df_ndvi_landsat = df_ndvi_landsat.sort_values(\"date\")\n",
    "df_ndvi_sentinel = df_ndvi_sentinel.sort_values(\"date\")\n",
    "\n",
    "# Cópias para o plot\n",
    "df_ndvi_landsat_plot = df_ndvi_landsat.copy()\n",
    "df_ndvi_sentinel_plot = df_ndvi_sentinel.copy()\n",
    "\n",
    "# Filtro para visualização: clear_sky_% < 95 → NDVI_mean/std = NaN\n",
    "df_ndvi_landsat_plot.loc[df_ndvi_landsat_plot['clear_sky_%'] < 95, ['NDVI_mean', 'NDVI_std']] = np.nan\n",
    "df_ndvi_sentinel_plot.loc[df_ndvi_sentinel_plot['clear_sky_%'] < 95, ['NDVI_mean', 'NDVI_std']] = np.nan\n",
    "\n",
    "# Inicia o gráfico\n",
    "plt.figure(figsize=(12, 6))\n",
    "\n",
    "# Faixa de std - Sentinel\n",
    "plt.fill_between(\n",
    "    df_ndvi_sentinel_plot['date'],\n",
    "    df_ndvi_sentinel_plot['NDVI_mean'] - df_ndvi_sentinel_plot['NDVI_std'],\n",
    "    df_ndvi_sentinel_plot['NDVI_mean'] + df_ndvi_sentinel_plot['NDVI_std'],\n",
    "    color='green', alpha=0.1\n",
    ")\n",
    "\n",
    "# Faixa de std - Landsat\n",
    "plt.fill_between(\n",
    "    df_ndvi_landsat_plot['date'],\n",
    "    df_ndvi_landsat_plot['NDVI_mean'] - df_ndvi_landsat_plot['NDVI_std'],\n",
    "    df_ndvi_landsat_plot['NDVI_mean'] + df_ndvi_landsat_plot['NDVI_std'],\n",
    "    color='blue', alpha=0.1\n",
    ")\n",
    "\n",
    "# Linha média do NDVI - Sentinel\n",
    "sns.lineplot(\n",
    "    data=df_ndvi_sentinel_plot,\n",
    "    x='date', y='NDVI_mean',\n",
    "    label='Sentinel-2 (linha)',\n",
    "    color='green'\n",
    ")\n",
    "\n",
    "# Linha média do NDVI - Landsat\n",
    "sns.lineplot(\n",
    "    data=df_ndvi_landsat_plot,\n",
    "    x='date', y='NDVI_mean',\n",
    "    label='Landsat 8 (linha)',\n",
    "    color='blue'\n",
    ")\n",
    "\n",
    "# ░░░ Pontos sobre a curva Sentinel, diferenciando por satélite ░░░\n",
    "sentinel_symbols = {\n",
    "    'Sentinel-2A': 'o',  # Círculo\n",
    "    'Sentinel-2B': 's',  # Quadrado\n",
    "    'Sentinel-2C': 'X',  # X\n",
    "}\n",
    "\n",
    "for sat, marker in sentinel_symbols.items():\n",
    "    subset = df_ndvi_sentinel_plot[df_ndvi_sentinel_plot['satellite'] == sat]\n",
    "    plt.scatter(\n",
    "        subset['date'], subset['NDVI_mean'],\n",
    "        color='green', marker=marker, s=60, label=f'{sat}'\n",
    "    )\n",
    "\n",
    "# ░░░ Pontos sobre a curva Landsat (inclusive onde NDVI_mean é NaN) ░░░\n",
    "plt.scatter(\n",
    "    df_ndvi_landsat['date'],\n",
    "    df_ndvi_landsat_plot['NDVI_mean'],  # usa os NaN filtrados\n",
    "    color='blue', marker='D', s=50, label='Landsat 8 (ponto)'\n",
    ")\n",
    "\n",
    "# Ajustes visuais\n",
    "plt.title('Série Temporal do NDVI (clear_sky ≥ 95%)', fontsize=14)\n",
    "plt.xlabel('Data')\n",
    "plt.ylabel('NDVI médio sobre a ROI')\n",
    "plt.legend()\n",
    "plt.grid(True)\n",
    "plt.tight_layout()\n",
    "plt.show()\n"
   ]
  },
  {
   "cell_type": "markdown",
   "metadata": {
    "id": "cUZS4M6dOtis"
   },
   "source": [
    "## Interpretação da Série Temporal de NDVI - Landsat vs Sentinel-2\n",
    "\n",
    "A figura acima apresenta a série temporal do NDVI médio para duas plataformas de satélites:\n",
    "- **Landsat 8** (em azul)\n",
    "- **Sentinel-2A/B/C** (em verde, com símbolos diferentes para cada satélite)\n",
    "\n",
    "É possível observar que o NDVI derivado do Sentinel-2 é consistentemente mais alto do que o do Landsat 8 para a mesma região e período de observação. As principais razões para essa diferença incluem:\n",
    "\n",
    "- **Resolução espacial**: Sentinel-2 possui resolução espacial mais fina (10 metros para a banda do NDVI), enquanto Landsat 8 opera em 30 metros. Isso permite que o Sentinel capture feições vegetadas menores que poderiam ser diluídas na média dos pixels do Landsat.\n",
    "- **Especificidade espectral**: As bandas do Sentinel-2 são mais otimizadas para vegetação, especialmente no red-edge, o que melhora a sensibilidade a variações sutis no vigor da vegetação.\n",
    "- **Frequência de revisita**: O Sentinel-2 revisita a mesma área com mais frequência, reduzindo o risco de captar cenas sob condições atípicas (ex.: após estresse hídrico ou eventos extremos).\n",
    "- **Processamento atmosférico**: As correções atmosféricas aplicadas em cada missão são diferentes (ex.: Sen2Cor para Sentinel e LaSRC para Landsat), podendo introduzir pequenas divergências nos valores de reflectância de superfície.\n",
    "\n",
    "Ainda assim, a queda abrupta no NDVI do Sentinel-2 observada a partir de 2022 pode estar relacionada a:\n",
    "\n",
    "- **Mudança no sistema de observação**: Em 2022, o Sentinel-2C começou a operar. Pequenas diferenças de calibração entre satélites (A, B e C) podem gerar mudanças sistemáticas nos índices se não forem devidamente harmonizadas.\n",
    "- **Problemas na correção atmosférica**: Variações na qualidade do produto atmosférico (ex.: presença de aerossóis não detectados) podem afetar a acurácia dos índices derivados.\n",
    "- **Alteração da área analisada**: Caso a região de interesse (ROI) tenha sido modificada ou tenha sofrido mudança de uso do solo (ex.: urbanização), o NDVI médio tenderia a diminuir. Porém, isso não explicaria porque o Landsat 8 se mantém estável\n",
    "\n",
    "> 🔎 Uma análise complementar usando dados de precipitação, índices de seca (ex.: SPI) ou imagens visuais da região poderia ajudar a confirmar a causa da mudança em 2022.\n",
    "\n"
   ]
  },
  {
   "cell_type": "markdown",
   "metadata": {
    "id": "kuc0A504PPo6"
   },
   "source": [
    "## Conclusão\n",
    "\n",
    "Este notebook mostrou como trabalhar com o `geemap-tools`, listando e separando imagens, além de construir uma análise temporal do NDVI usando imagens Landsat e Sentinel-2, destacando diferenças importantes entre as plataformas e evidenciando eventos de variação na cobertura vegetal ao longo do tempo.\n",
    "\n",
    "A exploração do NDVI é apenas uma das muitas possibilidades! Com pequenas adaptações, você pode aplicar o mesmo fluxo de trabalho para outros índices de vegetação, umidade do solo, detecção de queimadas, entre muitos outros disponíveis no pacote [`eemont`](https://eemont.readthedocs.io/en/latest/).\n",
    "\n",
    "Fique à vontade para experimentar, adaptar e expandir esse código para suas necessidades.  \n",
    "Se você desenvolver alguma função extra ou melhoria interessante, sinta-se convidado(a) a interagir com o repositório original e enviar um **Pull Request**!  \n",
    "Será um prazer receber suas contribuições!\n",
    "\n",
    "> 🚀 Ciência aberta se faz assim: colaborando e compartilhando!\n",
    "\n",
    "\n",
    "[Andre L. Belem](mailto:andrebelem@id.uff.br)\n",
    "\n"
   ]
  }
 ],
 "metadata": {
  "colab": {
   "provenance": []
  },
  "kernelspec": {
   "display_name": "Python 3 (ipykernel)",
   "language": "python",
   "name": "python3"
  },
  "language_info": {
   "codemirror_mode": {
    "name": "ipython",
    "version": 3
   },
   "file_extension": ".py",
   "mimetype": "text/x-python",
   "name": "python",
   "nbconvert_exporter": "python",
   "pygments_lexer": "ipython3",
   "version": "3.11.13"
  }
 },
 "nbformat": 4,
 "nbformat_minor": 4
}
