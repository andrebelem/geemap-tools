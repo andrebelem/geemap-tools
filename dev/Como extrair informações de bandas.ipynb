{
 "cells": [
  {
   "cell_type": "markdown",
   "id": "725160ce-717e-4c8f-a62f-17a342175e10",
   "metadata": {},
   "source": [
    "# Extração de Informações Espectrais por Região de Interesse (ROI)\n",
    "\n",
    "Neste notebook, vamos demonstrar como extrair informações espectrais a partir de bandas de imagem de satélite delimitadas por um polígono (shape). Essa técnica é amplamente utilizada em aplicações de sensoriamento remoto e análise ambiental, permitindo calcular estatísticas (como média, desvio padrão ou valores máximos/mínimos) apenas dentro de áreas de interesse, como bacias hidrográficas, áreas agrícolas ou regiões costeiras.\n",
    "\n",
    "Ao longo dos próximos passos, utilizaremos bibliotecas como `geemap` e `earthengine-api` para realizar a sobreposição das bandas com o shape e extrair os dados relevantes.\n"
   ]
  },
  {
   "cell_type": "code",
   "execution_count": 1,
   "id": "710616e1-0a80-40a0-8bbc-28fce7929892",
   "metadata": {},
   "outputs": [],
   "source": [
    "import ee\n",
    "import geemap\n",
    "import geemap_tools as gee\n",
    "\n",
    "ee.Authenticate()\n",
    "ee.Initialize(project='ee-andrebelem') # << note que vc tem que mudar para o seu projeto"
   ]
  },
  {
   "cell_type": "markdown",
   "id": "0e4b827e-a450-4e1f-8695-b74c5ec3e829",
   "metadata": {},
   "source": [
    "Obviamente vamos precisar de um ROI... "
   ]
  },
  {
   "cell_type": "code",
   "execution_count": 2,
   "id": "ba46cfaf-5d1e-48ae-9796-478307998a4e",
   "metadata": {},
   "outputs": [
    {
     "data": {
      "text/html": [
       "\n",
       "            <style>\n",
       "                .geemap-dark {\n",
       "                    --jp-widgets-color: white;\n",
       "                    --jp-widgets-label-color: white;\n",
       "                    --jp-ui-font-color1: white;\n",
       "                    --jp-layout-color2: #454545;\n",
       "                    background-color: #383838;\n",
       "                }\n",
       "\n",
       "                .geemap-dark .jupyter-button {\n",
       "                    --jp-layout-color3: #383838;\n",
       "                }\n",
       "\n",
       "                .geemap-colab {\n",
       "                    background-color: var(--colab-primary-surface-color, white);\n",
       "                }\n",
       "\n",
       "                .geemap-colab .jupyter-button {\n",
       "                    --jp-layout-color3: var(--colab-primary-surface-color, white);\n",
       "                }\n",
       "            </style>\n",
       "            "
      ],
      "text/plain": [
       "<IPython.core.display.HTML object>"
      ]
     },
     "metadata": {},
     "output_type": "display_data"
    }
   ],
   "source": [
    "# Carregando a FeatureCollection\n",
    "dataset = ee.FeatureCollection('WCMC/WDPA/current/polygons')\n",
    "\n",
    "# agora crio um ROI para o PESET\n",
    "peset = dataset.filter(ee.Filter.eq(\"NAME\", \"Parque Estadual Da Serra Da Tiririca\"))"
   ]
  },
  {
   "cell_type": "markdown",
   "id": "d28e4c2c-a88d-4ca8-b691-33afd7345558",
   "metadata": {},
   "source": [
    "Agora, vamos pegar uma imagem de interesse. Note que se você tem uma coleção, as operações adiante podem ser feitas dentro de um laço."
   ]
  },
  {
   "cell_type": "code",
   "execution_count": 5,
   "id": "870343cd-1fe6-473c-834d-f67a2e49ee38",
   "metadata": {},
   "outputs": [
    {
     "data": {
      "text/html": [
       "\n",
       "            <style>\n",
       "                .geemap-dark {\n",
       "                    --jp-widgets-color: white;\n",
       "                    --jp-widgets-label-color: white;\n",
       "                    --jp-ui-font-color1: white;\n",
       "                    --jp-layout-color2: #454545;\n",
       "                    background-color: #383838;\n",
       "                }\n",
       "\n",
       "                .geemap-dark .jupyter-button {\n",
       "                    --jp-layout-color3: #383838;\n",
       "                }\n",
       "\n",
       "                .geemap-colab {\n",
       "                    background-color: var(--colab-primary-surface-color, white);\n",
       "                }\n",
       "\n",
       "                .geemap-colab .jupyter-button {\n",
       "                    --jp-layout-color3: var(--colab-primary-surface-color, white);\n",
       "                }\n",
       "            </style>\n",
       "            "
      ],
      "text/plain": [
       "<IPython.core.display.HTML object>"
      ]
     },
     "metadata": {},
     "output_type": "display_data"
    },
    {
     "data": {
      "application/vnd.jupyter.widget-view+json": {
       "model_id": "74d455c42463413f83c5bf8c52237fa2",
       "version_major": 2,
       "version_minor": 0
      },
      "text/plain": [
       "Map(center=[-22.936059848900094, -43.0111785825978], controls=(WidgetControl(options=['position', 'transparent…"
      ]
     },
     "execution_count": 5,
     "metadata": {},
     "output_type": "execute_result"
    }
   ],
   "source": [
    "# Carrega a imagem Sentinel-2\n",
    "image = ee.Image(\"COPERNICUS/S2_SR/20250117T130241_20250117T130244_T23KPQ\")\n",
    "\n",
    "# transforma o peset em image (só para desenhar a borda)\n",
    "img_contorno = ee.Image().paint(\n",
    "    featureCollection=peset,\n",
    "    color=1,       # Valor de pixel (para visualização)\n",
    "    width=2        # Largura da linha\n",
    ")\n",
    "\n",
    "# Seleciona bandas para true color\n",
    "true_color = image.select(['B4', 'B3', 'B2'])\n",
    "\n",
    "# Parâmetros de visualização\n",
    "vis_params = {\n",
    "    'min': 0,\n",
    "    'max': 3000,\n",
    "    'bands': ['B4', 'B3', 'B2'],\n",
    "    'gamma': 1.3\n",
    "}\n",
    "\n",
    "# Cria o mapa e centraliza na ROI\n",
    "Map = geemap.Map()\n",
    "Map.centerObject(peset, zoom=13)\n",
    "Map.addLayer(true_color, vis_params, \"Sentinel-2 True Color\")\n",
    "# Adiciona ao mapa apenas o contorno\n",
    "Map.addLayer(img_contorno, {'palette': 'red'}, \"Contorno ROI\")\n",
    "Map.addLayerControl()\n",
    "Map\n"
   ]
  },
  {
   "cell_type": "code",
   "execution_count": 10,
   "id": "c81d8faf-116d-466d-885c-4078b0aebf42",
   "metadata": {},
   "outputs": [
    {
     "data": {
      "text/html": [
       "\n",
       "            <style>\n",
       "                .geemap-dark {\n",
       "                    --jp-widgets-color: white;\n",
       "                    --jp-widgets-label-color: white;\n",
       "                    --jp-ui-font-color1: white;\n",
       "                    --jp-layout-color2: #454545;\n",
       "                    background-color: #383838;\n",
       "                }\n",
       "\n",
       "                .geemap-dark .jupyter-button {\n",
       "                    --jp-layout-color3: #383838;\n",
       "                }\n",
       "\n",
       "                .geemap-colab {\n",
       "                    background-color: var(--colab-primary-surface-color, white);\n",
       "                }\n",
       "\n",
       "                .geemap-colab .jupyter-button {\n",
       "                    --jp-layout-color3: var(--colab-primary-surface-color, white);\n",
       "                }\n",
       "            </style>\n",
       "            "
      ],
      "text/plain": [
       "<IPython.core.display.HTML object>"
      ]
     },
     "metadata": {},
     "output_type": "display_data"
    },
    {
     "name": "stdout",
     "output_type": "stream",
     "text": [
      "['B1', 'B2', 'B3', 'B4', 'B5', 'B6', 'B7', 'B8', 'B8A', 'B9', 'B11', 'B12', 'AOT', 'WVP', 'SCL', 'TCI_R', 'TCI_G', 'TCI_B', 'MSK_CLDPRB', 'MSK_SNWPRB', 'MSK_CLASSI_OPAQUE', 'MSK_CLASSI_CIRRUS', 'MSK_CLASSI_SNOW_ICE']\n"
     ]
    }
   ],
   "source": [
    "# agora, vamos listar as bandas da imagem\n",
    "\n",
    "clipped = image.clip(peset) # primeiro vou clipar a imagem\n",
    "bands = image.bandNames().getInfo()\n",
    "print(bands)"
   ]
  },
  {
   "cell_type": "markdown",
   "id": "a77a84f4-7cdf-4a21-af16-6d3c5c58ccb1",
   "metadata": {},
   "source": [
    "Note que dei um \"clip\" na imagem porque não estou interessado em outras partes que não sejam dentro do ROI."
   ]
  },
  {
   "cell_type": "code",
   "execution_count": 51,
   "id": "8b405dce-c37e-49a9-b8d2-c36d448a42a7",
   "metadata": {},
   "outputs": [
    {
     "data": {
      "text/html": [
       "\n",
       "            <style>\n",
       "                .geemap-dark {\n",
       "                    --jp-widgets-color: white;\n",
       "                    --jp-widgets-label-color: white;\n",
       "                    --jp-ui-font-color1: white;\n",
       "                    --jp-layout-color2: #454545;\n",
       "                    background-color: #383838;\n",
       "                }\n",
       "\n",
       "                .geemap-dark .jupyter-button {\n",
       "                    --jp-layout-color3: #383838;\n",
       "                }\n",
       "\n",
       "                .geemap-colab {\n",
       "                    background-color: var(--colab-primary-surface-color, white);\n",
       "                }\n",
       "\n",
       "                .geemap-colab .jupyter-button {\n",
       "                    --jp-layout-color3: var(--colab-primary-surface-color, white);\n",
       "                }\n",
       "            </style>\n",
       "            "
      ],
      "text/plain": [
       "<IPython.core.display.HTML object>"
      ]
     },
     "metadata": {},
     "output_type": "display_data"
    }
   ],
   "source": [
    "bands_of_interest = ['B4', 'B3', 'B2']\n",
    "# Define resolução (em metros)\n",
    "scale = 10"
   ]
  },
  {
   "cell_type": "code",
   "execution_count": 52,
   "id": "c5d9214f-a9d9-426c-87f9-5c01b78733f0",
   "metadata": {},
   "outputs": [
    {
     "data": {
      "text/html": [
       "\n",
       "            <style>\n",
       "                .geemap-dark {\n",
       "                    --jp-widgets-color: white;\n",
       "                    --jp-widgets-label-color: white;\n",
       "                    --jp-ui-font-color1: white;\n",
       "                    --jp-layout-color2: #454545;\n",
       "                    background-color: #383838;\n",
       "                }\n",
       "\n",
       "                .geemap-dark .jupyter-button {\n",
       "                    --jp-layout-color3: #383838;\n",
       "                }\n",
       "\n",
       "                .geemap-colab {\n",
       "                    background-color: var(--colab-primary-surface-color, white);\n",
       "                }\n",
       "\n",
       "                .geemap-colab .jupyter-button {\n",
       "                    --jp-layout-color3: var(--colab-primary-surface-color, white);\n",
       "                }\n",
       "            </style>\n",
       "            "
      ],
      "text/plain": [
       "<IPython.core.display.HTML object>"
      ]
     },
     "metadata": {},
     "output_type": "display_data"
    },
    {
     "name": "stdout",
     "output_type": "stream",
     "text": [
      "Área da ROI: 34999681.60 m²\n",
      "Número estimado de pixels a 10m: 349996\n"
     ]
    }
   ],
   "source": [
    "# Área da ROI em metros quadrados\n",
    "area_m2 = peset.geometry().area().getInfo()\n",
    "\n",
    "# Estimativa de número de pixels (1 pixel = scale x scale m²)\n",
    "pixel_area = scale * scale\n",
    "n_pixels = area_m2 / pixel_area\n",
    "\n",
    "print(f\"Área da ROI: {area_m2:.2f} m²\")\n",
    "print(f\"Número estimado de pixels a {scale}m: {int(n_pixels)}\")\n"
   ]
  },
  {
   "cell_type": "markdown",
   "id": "5b67d7a5-e222-4989-8de2-521f56b1da4d",
   "metadata": {},
   "source": [
    "## Visualização Rápida da Distribuição de Valores em uma Banda\n",
    "\n",
    "Uma das maneiras mais práticas e rápidas de verificar a distribuição de valores de uma banda específica dentro de uma Região de Interesse (ROI) é utilizando a função `feature_histogram()` da biblioteca `geemap`.\n",
    "\n",
    "Essa função permite gerar um histograma dos valores da banda recortados pela geometria definida no shape (por exemplo, um polígono), facilitando a análise inicial dos dados, como detecção de outliers, identificação de padrões e definição de limiares para classificação.\n",
    "\n",
    "No exemplo a seguir, aplicaremos o `feature_histogram()` sobre uma imagem e um polígono selecionado para visualizar a distribuição espectral da banda desejada.\n"
   ]
  },
  {
   "cell_type": "code",
   "execution_count": 39,
   "id": "7c761b10-999b-42df-b31d-c3c640910cb5",
   "metadata": {},
   "outputs": [
    {
     "data": {
      "text/html": [
       "\n",
       "            <style>\n",
       "                .geemap-dark {\n",
       "                    --jp-widgets-color: white;\n",
       "                    --jp-widgets-label-color: white;\n",
       "                    --jp-ui-font-color1: white;\n",
       "                    --jp-layout-color2: #454545;\n",
       "                    background-color: #383838;\n",
       "                }\n",
       "\n",
       "                .geemap-dark .jupyter-button {\n",
       "                    --jp-layout-color3: #383838;\n",
       "                }\n",
       "\n",
       "                .geemap-colab {\n",
       "                    background-color: var(--colab-primary-surface-color, white);\n",
       "                }\n",
       "\n",
       "                .geemap-colab .jupyter-button {\n",
       "                    --jp-layout-color3: var(--colab-primary-surface-color, white);\n",
       "                }\n",
       "            </style>\n",
       "            "
      ],
      "text/plain": [
       "<IPython.core.display.HTML object>"
      ]
     },
     "metadata": {},
     "output_type": "display_data"
    },
    {
     "data": {
      "application/vnd.jupyter.widget-view+json": {
       "model_id": "6dda061f6e8e4bcaa8185c9b6a499b39",
       "version_major": 2,
       "version_minor": 0
      },
      "text/plain": [
       "VBox(children=(Figure(axes=[Axis(orientation='vertical', scale=LinearScale()), Axis(scale=LinearScale())], fig…"
      ]
     },
     "metadata": {},
     "output_type": "display_data"
    }
   ],
   "source": [
    "import geemap.chart as chart\n",
    "target = clipped.select(bands_of_interest).sample(peset)\n",
    "chart.feature_histogram(target,'B2')"
   ]
  },
  {
   "cell_type": "markdown",
   "id": "efc78443-2d9f-4f06-867f-f4540235779d",
   "metadata": {},
   "source": [
    "## Extração Direta de Valores com `aggregate_array`\n",
    "\n",
    "Embora ferramentas como `feature_histogram()` sejam úteis para uma análise visual rápida, em muitos casos pode ser mais eficiente obter diretamente os valores dos pixels de uma banda dentro de um ROI utilizando o método `aggregate_array`, nativo do Earth Engine (`ee`).\n",
    "\n",
    "Esse método retorna uma lista com todos os valores da banda dentro da geometria definida, o que permite maior controle sobre o processamento posterior, como cálculo de estatísticas personalizadas, remoção de valores nulos, ou aplicação de filtros."
   ]
  },
  {
   "cell_type": "code",
   "execution_count": 53,
   "id": "1111f478-3d33-49ae-87d1-49c550592b7f",
   "metadata": {},
   "outputs": [
    {
     "data": {
      "text/html": [
       "\n",
       "            <style>\n",
       "                .geemap-dark {\n",
       "                    --jp-widgets-color: white;\n",
       "                    --jp-widgets-label-color: white;\n",
       "                    --jp-ui-font-color1: white;\n",
       "                    --jp-layout-color2: #454545;\n",
       "                    background-color: #383838;\n",
       "                }\n",
       "\n",
       "                .geemap-dark .jupyter-button {\n",
       "                    --jp-layout-color3: #383838;\n",
       "                }\n",
       "\n",
       "                .geemap-colab {\n",
       "                    background-color: var(--colab-primary-surface-color, white);\n",
       "                }\n",
       "\n",
       "                .geemap-colab .jupyter-button {\n",
       "                    --jp-layout-color3: var(--colab-primary-surface-color, white);\n",
       "                }\n",
       "            </style>\n",
       "            "
      ],
      "text/plain": [
       "<IPython.core.display.HTML object>"
      ]
     },
     "metadata": {},
     "output_type": "display_data"
    }
   ],
   "source": [
    "pixels = target.aggregate_array('B4').getInfo() # note que demora um pouco"
   ]
  },
  {
   "cell_type": "code",
   "execution_count": 54,
   "id": "d99043a4-72c9-43db-a74f-8841baebf866",
   "metadata": {},
   "outputs": [
    {
     "data": {
      "text/html": [
       "\n",
       "            <style>\n",
       "                .geemap-dark {\n",
       "                    --jp-widgets-color: white;\n",
       "                    --jp-widgets-label-color: white;\n",
       "                    --jp-ui-font-color1: white;\n",
       "                    --jp-layout-color2: #454545;\n",
       "                    background-color: #383838;\n",
       "                }\n",
       "\n",
       "                .geemap-dark .jupyter-button {\n",
       "                    --jp-layout-color3: #383838;\n",
       "                }\n",
       "\n",
       "                .geemap-colab {\n",
       "                    background-color: var(--colab-primary-surface-color, white);\n",
       "                }\n",
       "\n",
       "                .geemap-colab .jupyter-button {\n",
       "                    --jp-layout-color3: var(--colab-primary-surface-color, white);\n",
       "                }\n",
       "            </style>\n",
       "            "
      ],
      "text/plain": [
       "<IPython.core.display.HTML object>"
      ]
     },
     "metadata": {},
     "output_type": "display_data"
    },
    {
     "data": {
      "image/png": "[encoded data removed]",
      "text/plain": [
       "<Figure size 640x480 with 1 Axes>"
      ]
     },
     "metadata": {},
     "output_type": "display_data"
    }
   ],
   "source": [
    "import seaborn as sns\n",
    "import matplotlib.pyplot as plt\n",
    "\n",
    "# Cria histograma\n",
    "sns.histplot(pixels, bins=30, kde=True)\n",
    "\n",
    "# Personaliza e mostra\n",
    "plt.xlabel(\"Valor de pixel\")\n",
    "plt.ylabel(\"Frequência\")\n",
    "plt.title(\"Histograma da Banda B4\")\n",
    "plt.show()\n"
   ]
  },
  {
   "cell_type": "markdown",
   "id": "41f108ac-0c6f-4594-a8fb-731bb0f64aca",
   "metadata": {},
   "source": [
    "Note que eu posso buscar esses valores programaticamente ao longo de várias bandas..."
   ]
  },
  {
   "cell_type": "code",
   "execution_count": 58,
   "id": "ec907994-9e29-465d-bdfa-12511477c4ca",
   "metadata": {},
   "outputs": [
    {
     "data": {
      "text/html": [
       "\n",
       "            <style>\n",
       "                .geemap-dark {\n",
       "                    --jp-widgets-color: white;\n",
       "                    --jp-widgets-label-color: white;\n",
       "                    --jp-ui-font-color1: white;\n",
       "                    --jp-layout-color2: #454545;\n",
       "                    background-color: #383838;\n",
       "                }\n",
       "\n",
       "                .geemap-dark .jupyter-button {\n",
       "                    --jp-layout-color3: #383838;\n",
       "                }\n",
       "\n",
       "                .geemap-colab {\n",
       "                    background-color: var(--colab-primary-surface-color, white);\n",
       "                }\n",
       "\n",
       "                .geemap-colab .jupyter-button {\n",
       "                    --jp-layout-color3: var(--colab-primary-surface-color, white);\n",
       "                }\n",
       "            </style>\n",
       "            "
      ],
      "text/plain": [
       "<IPython.core.display.HTML object>"
      ]
     },
     "metadata": {},
     "output_type": "display_data"
    },
    {
     "name": "stderr",
     "output_type": "stream",
     "text": [
      "Extraindo pixels por banda: 100%|██████████████████████████████████████████████████| 3/3 [01:24<00:00, 28.22s/it]\n"
     ]
    }
   ],
   "source": [
    "from tqdm import tqdm\n",
    "import pandas as pd\n",
    "# Parâmetros de entrada\n",
    "bands_of_interest = ['B4', 'B3', 'B2']  # Substitua pelas bandas desejadas\n",
    "# Dicionário para guardar os arrays\n",
    "band_data = {}\n",
    "\n",
    "# Loop com tqdm\n",
    "for band in tqdm(bands_of_interest, desc=\"Extraindo pixels por banda\"):\n",
    "    # Seleciona apenas a banda desejada\n",
    "    band_img = target.select(band)\n",
    "\n",
    "    # Usa aggregate_array para extrair todos os valores da banda\n",
    "    values = band_img.aggregate_array(band).getInfo()\n",
    "\n",
    "    # Armazena no dicionário\n",
    "    band_data[band] = values\n",
    "\n",
    "# Constrói o DataFrame\n",
    "df_bandas = pd.DataFrame(band_data)"
   ]
  },
  {
   "cell_type": "markdown",
   "id": "e9bee510-d714-4644-85f7-a80e7528cd27",
   "metadata": {},
   "source": [
    "### Análise dos Valores de Pixel por Banda\n",
    "\n",
    "Agora que extraímos todos os valores de pixel para cada banda de interesse na nossa região de estudo (ROI), os dados estão organizados em colunas de um `DataFrame`, facilitando a visualização estatística.\n",
    "\n",
    "Com isso, podemos:\n",
    "\n",
    "- Plotar **histogramas** para analisar a distribuição de frequência dos valores espectrais por banda;\n",
    "- Criar **boxplots** para visualizar a mediana, quartis, dispersão e detectar possíveis outliers.\n",
    "\n",
    "Essas visualizações ajudam a entender a qualidade dos dados, identificar ruídos, saturações e possíveis efeitos de sombra ou cobertura de nuvens em determinadas bandas.\n"
   ]
  },
  {
   "cell_type": "code",
   "execution_count": 61,
   "id": "c30c1b9e-439e-4a30-84b7-13cd2db10561",
   "metadata": {},
   "outputs": [
    {
     "data": {
      "text/html": [
       "\n",
       "            <style>\n",
       "                .geemap-dark {\n",
       "                    --jp-widgets-color: white;\n",
       "                    --jp-widgets-label-color: white;\n",
       "                    --jp-ui-font-color1: white;\n",
       "                    --jp-layout-color2: #454545;\n",
       "                    background-color: #383838;\n",
       "                }\n",
       "\n",
       "                .geemap-dark .jupyter-button {\n",
       "                    --jp-layout-color3: #383838;\n",
       "                }\n",
       "\n",
       "                .geemap-colab {\n",
       "                    background-color: var(--colab-primary-surface-color, white);\n",
       "                }\n",
       "\n",
       "                .geemap-colab .jupyter-button {\n",
       "                    --jp-layout-color3: var(--colab-primary-surface-color, white);\n",
       "                }\n",
       "            </style>\n",
       "            "
      ],
      "text/plain": [
       "<IPython.core.display.HTML object>"
      ]
     },
     "metadata": {},
     "output_type": "display_data"
    },
    {
     "data": {
      "image/png": "[encoded data removed]",
      "text/plain": [
       "<Figure size 800x500 with 1 Axes>"
      ]
     },
     "metadata": {},
     "output_type": "display_data"
    }
   ],
   "source": [
    "import seaborn as sns\n",
    "import matplotlib.pyplot as plt\n",
    "\n",
    "# Supondo que df contém colunas como 'B2', 'B3', 'B4'\n",
    "df_melted = df_bandas.melt(var_name='Banda', value_name='Valor')\n",
    "\n",
    "plt.figure(figsize=(8, 5))\n",
    "sns.boxplot(data=df_melted, x='Banda', y='Valor')\n",
    "plt.title('Boxplot dos Valores de Pixel por Banda')\n",
    "plt.xlabel('Banda')\n",
    "plt.ylabel('Valor de Reflectância')\n",
    "plt.grid(True)\n",
    "plt.tight_layout()\n",
    "plt.show()"
   ]
  },
  {
   "cell_type": "markdown",
   "id": "4c69efc5-2502-494a-98e9-b999cb59a02c",
   "metadata": {},
   "source": [
    "### Fechamento do Exercício\n",
    "\n",
    "Neste exercício, aprendemos como extrair valores de pixel de múltiplas bandas espectrais usando o Google Earth Engine e organizar os dados em um `DataFrame` no Python. A partir dessa base, conseguimos aplicar visualizações estatísticas com `Seaborn`, como:\n",
    "\n",
    "- Histogramas para investigar a distribuição dos valores;\n",
    "- Boxplots para detectar padrões, outliers e comparar bandas entre si.\n",
    "\n",
    "Essas análises são fundamentais para entender a variabilidade espectral dentro de uma região de interesse e preparar os dados para aplicações como classificação, detecção de mudanças e cálculo de índices.\n",
    "\n",
    "> *Para consolidar o aprendizado, experimente aplicar a mesma lógica em outra cena ou conjunto de bandas, e explore a relação entre elas com outras técnicas gráficas ou estatísticas.*\n"
   ]
  }
 ],
 "metadata": {
  "kernelspec": {
   "display_name": "Python 3 (ipykernel)",
   "language": "python",
   "name": "python3"
  },
  "language_info": {
   "codemirror_mode": {
    "name": "ipython",
    "version": 3
   },
   "file_extension": ".py",
   "mimetype": "text/x-python",
   "name": "python",
   "nbconvert_exporter": "python",
   "pygments_lexer": "ipython3",
   "version": "3.11.12"
  }
 },
 "nbformat": 4,
 "nbformat_minor": 5
}
